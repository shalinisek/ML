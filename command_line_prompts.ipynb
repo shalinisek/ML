{
  "cells": [
    {
      "cell_type": "markdown",
      "metadata": {
        "id": "ght8QExSzAZ7"
      },
      "source": [
        "MKdir, Cat , echo,"
      ]
    },
    {
      "cell_type": "markdown",
      "metadata": {
        "id": "y1eDMC7izAZ9"
      },
      "source": []
    },
    {
      "cell_type": "markdown",
      "metadata": {
        "id": "l_Yizy98zAZ-"
      },
      "source": [
        "<font size = \"5\" color=\"red\"> Run following cell to create a file in command prompt</font>"
      ]
    },
    {
      "cell_type": "code",
      "execution_count": null,
      "metadata": {
        "scrolled": true,
        "id": "w51u4wd-zAZ_"
      },
      "outputs": [],
      "source": [
        "! echo \"customer,items, type, quantity\" > customer_history.csv; echo \"Allen, Statistical analysis, book, 2\" >> customer_history.csv;echo \"\">> customer_history.csv; echo \"Jhon, Kasa Smart Wi-Fi Plug, electronics, 3\" >>customer_history.csv; echo \"Tim,Unix Shell Programming, Book, 3\" >> customer_history.csv; echo \"\">> customer_history.csv; echo \"Allen,Python for Data Analysis, Book, 1\">> customer_history.csv"
      ]
    },
    {
      "cell_type": "code",
      "execution_count": null,
      "metadata": {
        "scrolled": true,
        "id": "V7rWUsYmzAaA",
        "outputId": "a2df19bd-37e2-4554-b245-9ff788e4838d"
      },
      "outputs": [
        {
          "name": "stdout",
          "output_type": "stream",
          "text": [
            "customer,items, type, quantity\r\n",
            "Allen, Statistical analysis, book, 2\r\n",
            "\r\n",
            "Jhon, Kasa Smart Wi-Fi Plug, electronics, 3\r\n",
            "Tim,Unix Shell Programming, Book, 3\r\n",
            "\r\n",
            "Allen,Python for Data Analysis, Book, 1\r\n"
          ]
        }
      ],
      "source": [
        "! cat customer_history.csv"
      ]
    },
    {
      "cell_type": "code",
      "execution_count": null,
      "metadata": {
        "scrolled": true,
        "id": "GjhQL2alzAaD",
        "outputId": "630aa351-9d64-49ca-90fc-4e9b8db8cde7"
      },
      "outputs": [
        {
          "name": "stdout",
          "output_type": "stream",
          "text": [
            "customer,items, type, quantity\r\n",
            "Allen, Statistical analysis, book, 2\r\n",
            "Jhon, Kasa Smart Wi-Fi Plug, electronics, 3\r\n",
            "Tim,Unix Shell Programming, Book, 3\r\n",
            "Allen,Python for Data Analysis, Book, 1\r\n"
          ]
        }
      ],
      "source": [
        "! cat customer_history.csv |grep '\\S'"
      ]
    },
    {
      "cell_type": "code",
      "execution_count": null,
      "metadata": {
        "id": "vUKwy5wezAaG",
        "outputId": "b7f3f8ff-14dc-4498-954c-5d39cbef6c11"
      },
      "outputs": [
        {
          "name": "stdout",
          "output_type": "stream",
          "text": [
            "ALLEN\r\n",
            "JHON\r\n",
            "TIM\r\n"
          ]
        }
      ],
      "source": [
        "# write commands using ! in the next line\n",
        "! cat customer_history.csv | grep '\\S'| cut -d ',' -f1 | awk 'NR >1{print $1}'  | sort |uniq | tr [:lower:] [:upper:]"
      ]
    },
    {
      "cell_type": "markdown",
      "metadata": {
        "id": "vW8ZJSfgzAaH"
      },
      "source": [
        "# Let's make  directory and add some files in them. \n",
        "\n",
        "<font color='red' size= 4 >Run the following commands to make  directories and files. </font>"
      ]
    },
    {
      "cell_type": "code",
      "execution_count": null,
      "metadata": {
        "id": "ywnl_hsUzAaI"
      },
      "outputs": [],
      "source": [
        "\n",
        "!mkdir -p dataset_zyx_dec_2050/train\n",
        "!mkdir -p dataset_zyx_dec_2050/validation"
      ]
    },
    {
      "cell_type": "code",
      "execution_count": null,
      "metadata": {
        "id": "Eqj9cJ6vzAaI"
      },
      "outputs": [],
      "source": [
        "!for i in $(seq   5); do touch dataset_zyx_dec_2050/validation/cat$i.jpg ;done\n",
        "!for i in $(seq   5); do touch dataset_zyx_dec_2050/validation/cat$i.tfrecord ;done\n",
        "!for i in $(seq   5); do touch dataset_zyx_dec_2050/train/cat$i.jpg ;done\n",
        "!for i in $(seq   5); do touch dataset_zyx_dec_2050/train/dog$i.jpg ;done"
      ]
    },
    {
      "cell_type": "markdown",
      "metadata": {
        "id": "Zq47v66VzAaJ"
      },
      "source": [
        "contents of dataset_zyx_dec_2050/validation and dataset_zyx_dec_2050/train"
      ]
    },
    {
      "cell_type": "code",
      "execution_count": null,
      "metadata": {
        "id": "_qbQ3LktzAaJ",
        "outputId": "bd0bc783-aa21-4aa2-ea15-506f1ec42c5e"
      },
      "outputs": [
        {
          "name": "stdout",
          "output_type": "stream",
          "text": [
            "cat1.jpg  cat3.jpg  cat5.jpg  dog2.jpg\tdog4.jpg\r\n",
            "cat2.jpg  cat4.jpg  dog1.jpg  dog3.jpg\tdog5.jpg\r\n"
          ]
        }
      ],
      "source": [
        "!ls dataset_zyx_dec_2050/train"
      ]
    },
    {
      "cell_type": "code",
      "execution_count": null,
      "metadata": {
        "id": "-mgvWeKOzAaK",
        "outputId": "93f836f8-61fa-427f-810b-865d8d203d7e"
      },
      "outputs": [
        {
          "name": "stdout",
          "output_type": "stream",
          "text": [
            "cat1.jpg       cat2.jpg       cat3.jpg\t     cat4.jpg\t    cat5.jpg\r\n",
            "cat1.tfrecord  cat2.tfrecord  cat3.tfrecord  cat4.tfrecord  cat5.tfrecord\r\n"
          ]
        }
      ],
      "source": [
        "!ls dataset_zyx_dec_2050/validation\n"
      ]
    },
    {
      "cell_type": "code",
      "execution_count": null,
      "metadata": {
        "id": "Kp5GfKy7zAaK",
        "outputId": "16a1dbab-e351-4916-fcde-37698c73c6fb"
      },
      "outputs": [
        {
          "name": "stdout",
          "output_type": "stream",
          "text": [
            "./dataset_zyx_dec_2050/train/cat1.jpg\r\n",
            "./dataset_zyx_dec_2050/train/cat2.jpg\r\n",
            "./dataset_zyx_dec_2050/train/cat3.jpg\r\n",
            "./dataset_zyx_dec_2050/train/cat4.jpg\r\n",
            "./dataset_zyx_dec_2050/train/cat5.jpg\r\n",
            "./dataset_zyx_dec_2050/validation/cat1.jpg\r\n",
            "./dataset_zyx_dec_2050/validation/cat2.jpg\r\n",
            "./dataset_zyx_dec_2050/validation/cat3.jpg\r\n",
            "./dataset_zyx_dec_2050/validation/cat4.jpg\r\n",
            "./dataset_zyx_dec_2050/validation/cat5.jpg\r\n"
          ]
        }
      ],
      "source": [
        "#write your command in next line\n",
        "# Hint ./use dataset_zyx_dec_2050 and read about -name option in the find command\n",
        "! find  ./dataset_zyx_dec_2050 -name \"cat*\" \n"
      ]
    },
    {
      "cell_type": "code",
      "execution_count": null,
      "metadata": {
        "id": "P8cLwmLAzAaL",
        "outputId": "8789c74d-7b54-4096-c1b3-7720c1785a6a"
      },
      "outputs": [
        {
          "name": "stdout",
          "output_type": "stream",
          "text": [
            "10\r\n"
          ]
        }
      ],
      "source": [
        "#write your commands in the next line\n",
        "! find  ./dataset_zyx_dec_2050 -name \"cat*\"  |wc -l"
      ]
    },
    {
      "cell_type": "code",
      "execution_count": null,
      "metadata": {
        "id": "9Or489pkzAaM",
        "outputId": "29f8f1ed-a41b-4b07-ed27-d8c6d95f7071"
      },
      "outputs": [
        {
          "name": "stdout",
          "output_type": "stream",
          "text": [
            "3\r\n"
          ]
        }
      ],
      "source": [
        "# write your code in the next line\n",
        "! cat customer_history.csv | grep '\\S'| cut -d ',' -f1 | awk 'NR >1{print $1}'  | sort |uniq | tr [:lower:] [:upper:] | wc -l\n"
      ]
    },
    {
      "cell_type": "markdown",
      "metadata": {
        "id": "pOYyaGzIzAaM"
      },
      "source": [
        "# Let's say you work for an e-commerce company and you are on call. Due to some recent feature pushed to the production, a severity 1 ticket is raised. The ticket states that some to the customers are charged multiple time this month. You task is to quickly find the affected customer and manually credit back the amount.\n",
        "\n",
        "<font size=\"4\" color = \"red\"> Run the followoing cell to generate the the  payment_gateway.logxx file </font>"
      ]
    },
    {
      "cell_type": "code",
      "execution_count": null,
      "metadata": {
        "id": "qpWJXsFkzAaM"
      },
      "outputs": [],
      "source": [
        "%%bash\n",
        "echo \"customer:2150:credit_card:xxxx-xxxx-xxxx:charged:\\$50\n",
        "customer:2350:credit_card:xxxx-xxxx-xxxx:charged:\\$20\n",
        "Paymenet gateway: STATUS 200\n",
        "customer:3456 payment failed\n",
        "customer:3350:credit_card:xxxx-xxxx-xxxx:charged:\\$71\n",
        "customer:4350:credit_card:xxxx-xxxx-xxxx:charged:\\$50\n",
        "customer:2350:credit_card:xxxx-xxxx-xxxx:charged:\\$20\n",
        "ncustomer:2150:credit_card:xxxx-xxxx-xxxx:charged:\\$50\n",
        "customer:3350:credit_card:xxxx-xxxx-xxxx:charged:\\$71\n",
        "customer:2350:credit_card:xxxx-xxxx-xxxx:charged:\\$20\n",
        "customer:2350:credit_card:xxxx-xxxx-xxxx:declined charged:attempt:3\" > payment_gateway.logxx"
      ]
    },
    {
      "cell_type": "code",
      "execution_count": null,
      "metadata": {
        "id": "Wza3r41XzAaN",
        "outputId": "de89541d-ee1a-4c51-b834-49b3facb0c62"
      },
      "outputs": [
        {
          "name": "stdout",
          "output_type": "stream",
          "text": [
            "customer:2150:credit_card:xxxx-xxxx-xxxx:charged:$50\r\n",
            "customer:2350:credit_card:xxxx-xxxx-xxxx:charged:$20\r\n",
            "Paymenet gateway: STATUS 200\r\n",
            "customer:3456 payment failed\r\n",
            "customer:3350:credit_card:xxxx-xxxx-xxxx:charged:$71\r\n",
            "customer:4350:credit_card:xxxx-xxxx-xxxx:charged:$50\r\n",
            "customer:2350:credit_card:xxxx-xxxx-xxxx:charged:$20\r\n",
            "ncustomer:2150:credit_card:xxxx-xxxx-xxxx:charged:$50\r\n",
            "customer:3350:credit_card:xxxx-xxxx-xxxx:charged:$71\r\n",
            "customer:2350:credit_card:xxxx-xxxx-xxxx:charged:$20\r\n",
            "customer:2350:credit_card:xxxx-xxxx-xxxx:declined charged:attempt:3\r\n"
          ]
        }
      ],
      "source": [
        "# Here are the file content\n",
        "!cat payment_gateway.logxx"
      ]
    },
    {
      "cell_type": "markdown",
      "metadata": {
        "id": "X8W7Bj2MzAaO"
      },
      "source": [
        " Using payment_gateway.logxx file to find the number of times a customer is charged and the line corresponding to the customer  record. Only print lines for customers charged more than one time.\n",
        "\n",
        "Hint:\n",
        "\n",
        "for customer 2350 line output should be\n",
        "\n",
        "3 customer:2350:credit_card:xxxx-xxxx-xxxx:charged:$20\n"
      ]
    },
    {
      "cell_type": "code",
      "execution_count": null,
      "metadata": {
        "id": "wfa0psHgzAaO",
        "outputId": "7381b274-4e53-4467-c21c-21c812c481cc"
      },
      "outputs": [
        {
          "name": "stdout",
          "output_type": "stream",
          "text": [
            "      2 customer:2150:credit_card:xxxx-xxxx-xxxx:charged:$50\r\n",
            "      2 customer:3350:credit_card:xxxx-xxxx-xxxx:charged:$71\r\n",
            "      3 customer:2350:credit_card:xxxx-xxxx-xxxx:charged:$20\r\n"
          ]
        }
      ],
      "source": [
        "!cat payment_gateway.logxx| sed 's/ncustomer/customer/g' |grep -Ev \"declined|failed|STATUS\" |sort | uniq -c |sort | awk 'NR >1{print $0}'"
      ]
    },
    {
      "cell_type": "code",
      "execution_count": null,
      "metadata": {
        "id": "VD6RTxW5zAaP"
      },
      "outputs": [],
      "source": []
    }
  ],
  "metadata": {
    "kernelspec": {
      "display_name": "Python 3",
      "language": "python",
      "name": "python3"
    },
    "language_info": {
      "codemirror_mode": {
        "name": "ipython",
        "version": 3
      },
      "file_extension": ".py",
      "mimetype": "text/x-python",
      "name": "python",
      "nbconvert_exporter": "python",
      "pygments_lexer": "ipython3",
      "version": "3.8.5"
    },
    "toc": {
      "base_numbering": 1,
      "nav_menu": {},
      "number_sections": false,
      "sideBar": true,
      "skip_h1_title": false,
      "title_cell": "Table of Contents",
      "title_sidebar": "Contents",
      "toc_cell": false,
      "toc_position": {},
      "toc_section_display": true,
      "toc_window_display": false
    },
    "varInspector": {
      "cols": {
        "lenName": 16,
        "lenType": 16,
        "lenVar": 40
      },
      "kernels_config": {
        "python": {
          "delete_cmd_postfix": "",
          "delete_cmd_prefix": "del ",
          "library": "var_list.py",
          "varRefreshCmd": "print(var_dic_list())"
        },
        "r": {
          "delete_cmd_postfix": ") ",
          "delete_cmd_prefix": "rm(",
          "library": "var_list.r",
          "varRefreshCmd": "cat(var_dic_list()) "
        }
      },
      "types_to_exclude": [
        "module",
        "function",
        "builtin_function_or_method",
        "instance",
        "_Feature"
      ],
      "window_display": false
    },
    "colab": {
      "provenance": []
    }
  },
  "nbformat": 4,
  "nbformat_minor": 0
}