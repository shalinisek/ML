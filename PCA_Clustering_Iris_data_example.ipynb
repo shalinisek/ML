{
  "cells": [
    {
      "cell_type": "raw",
      "metadata": {
        "id": "blxYoI2r2loL"
      },
      "source": [
        "The Iris Dataset\n",
        "\n",
        "Employ Principal Component Analysis to reduce the dimensionality of the dataset\n",
        "\n",
        "Employ clustering techniques to the data\n",
        "\n",
        "Explore the data\n",
        "\n",
        "Build a data hierarchy\n",
        "\n",
        "Visualize the hierarchy\n",
        "\n",
        "Explore the options for improving visualizations\n"
      ]
    },
    {
      "cell_type": "code",
      "execution_count": null,
      "metadata": {
        "id": "moSwafl42loS"
      },
      "outputs": [],
      "source": [
        "#import the dataset with parameter \"as_frame\" set to True to render the data in a Pandas dataframe format\n",
        "data = load_iris(as_frame=True)"
      ]
    },
    {
      "cell_type": "code",
      "execution_count": null,
      "metadata": {
        "id": "esyWplIb2loT"
      },
      "outputs": [],
      "source": [
        "iris_df = data[\"data\"]"
      ]
    },
    {
      "cell_type": "code",
      "execution_count": null,
      "metadata": {
        "id": "T2kwUir42loU",
        "outputId": "a43b2ea2-513d-40c0-abfa-cdea6bf9dd35"
      },
      "outputs": [
        {
          "data": {
            "text/html": [
              "<div>\n",
              "<style scoped>\n",
              "    .dataframe tbody tr th:only-of-type {\n",
              "        vertical-align: middle;\n",
              "    }\n",
              "\n",
              "    .dataframe tbody tr th {\n",
              "        vertical-align: top;\n",
              "    }\n",
              "\n",
              "    .dataframe thead th {\n",
              "        text-align: right;\n",
              "    }\n",
              "</style>\n",
              "<table border=\"1\" class=\"dataframe\">\n",
              "  <thead>\n",
              "    <tr style=\"text-align: right;\">\n",
              "      <th></th>\n",
              "      <th>sepal length (cm)</th>\n",
              "      <th>sepal width (cm)</th>\n",
              "      <th>petal length (cm)</th>\n",
              "      <th>petal width (cm)</th>\n",
              "    </tr>\n",
              "  </thead>\n",
              "  <tbody>\n",
              "    <tr>\n",
              "      <th>0</th>\n",
              "      <td>5.1</td>\n",
              "      <td>3.5</td>\n",
              "      <td>1.4</td>\n",
              "      <td>0.2</td>\n",
              "    </tr>\n",
              "    <tr>\n",
              "      <th>1</th>\n",
              "      <td>4.9</td>\n",
              "      <td>3.0</td>\n",
              "      <td>1.4</td>\n",
              "      <td>0.2</td>\n",
              "    </tr>\n",
              "    <tr>\n",
              "      <th>2</th>\n",
              "      <td>4.7</td>\n",
              "      <td>3.2</td>\n",
              "      <td>1.3</td>\n",
              "      <td>0.2</td>\n",
              "    </tr>\n",
              "    <tr>\n",
              "      <th>3</th>\n",
              "      <td>4.6</td>\n",
              "      <td>3.1</td>\n",
              "      <td>1.5</td>\n",
              "      <td>0.2</td>\n",
              "    </tr>\n",
              "    <tr>\n",
              "      <th>4</th>\n",
              "      <td>5.0</td>\n",
              "      <td>3.6</td>\n",
              "      <td>1.4</td>\n",
              "      <td>0.2</td>\n",
              "    </tr>\n",
              "  </tbody>\n",
              "</table>\n",
              "</div>"
            ],
            "text/plain": [
              "   sepal length (cm)  sepal width (cm)  petal length (cm)  petal width (cm)\n",
              "0                5.1               3.5                1.4               0.2\n",
              "1                4.9               3.0                1.4               0.2\n",
              "2                4.7               3.2                1.3               0.2\n",
              "3                4.6               3.1                1.5               0.2\n",
              "4                5.0               3.6                1.4               0.2"
            ]
          },
          "execution_count": 34,
          "metadata": {},
          "output_type": "execute_result"
        }
      ],
      "source": [
        "iris_df.head()"
      ]
    },
    {
      "cell_type": "code",
      "execution_count": null,
      "metadata": {
        "id": "1XHi8OcL2loP"
      },
      "outputs": [],
      "source": [
        "#importing libraries\n",
        "\n",
        "from sklearn.datasets import load_iris\n",
        "from sklearn.decomposition import PCA\n",
        "from sklearn.preprocessing import StandardScaler\n",
        "from sklearn.cluster import KMeans\n",
        "import pandas as pd\n",
        "import seaborn as sns\n",
        "import altair as alt\n",
        "import numpy as np"
      ]
    },
    {
      "cell_type": "code",
      "execution_count": null,
      "metadata": {
        "id": "6i5AFYxK2loV"
      },
      "outputs": [],
      "source": [
        "#Adding target variable to the dataframe\n",
        "iris_df[\"target\"] = data.target"
      ]
    },
    {
      "cell_type": "code",
      "execution_count": null,
      "metadata": {
        "id": "gGGNMF402loW"
      },
      "outputs": [],
      "source": [
        "targets = data[\"target_names\"]\n",
        "\n",
        "#Casting target_names into the \"target\" columns for better representation and understanding\n",
        "iris_df[\"target\"] = iris_df[\"target\"].map({0: 'setosa', 1: 'versicolor', 2: 'virginica'})"
      ]
    },
    {
      "cell_type": "code",
      "execution_count": null,
      "metadata": {
        "id": "NvQW6RtO2loY",
        "outputId": "7660ee4e-9249-42db-ad86-ae92c557c2a0"
      },
      "outputs": [
        {
          "data": {
            "text/html": [
              "<div>\n",
              "<style scoped>\n",
              "    .dataframe tbody tr th:only-of-type {\n",
              "        vertical-align: middle;\n",
              "    }\n",
              "\n",
              "    .dataframe tbody tr th {\n",
              "        vertical-align: top;\n",
              "    }\n",
              "\n",
              "    .dataframe thead th {\n",
              "        text-align: right;\n",
              "    }\n",
              "</style>\n",
              "<table border=\"1\" class=\"dataframe\">\n",
              "  <thead>\n",
              "    <tr style=\"text-align: right;\">\n",
              "      <th></th>\n",
              "      <th>sepal length (cm)</th>\n",
              "      <th>sepal width (cm)</th>\n",
              "      <th>petal length (cm)</th>\n",
              "      <th>petal width (cm)</th>\n",
              "      <th>target</th>\n",
              "    </tr>\n",
              "  </thead>\n",
              "  <tbody>\n",
              "    <tr>\n",
              "      <th>0</th>\n",
              "      <td>5.1</td>\n",
              "      <td>3.5</td>\n",
              "      <td>1.4</td>\n",
              "      <td>0.2</td>\n",
              "      <td>setosa</td>\n",
              "    </tr>\n",
              "    <tr>\n",
              "      <th>1</th>\n",
              "      <td>4.9</td>\n",
              "      <td>3.0</td>\n",
              "      <td>1.4</td>\n",
              "      <td>0.2</td>\n",
              "      <td>setosa</td>\n",
              "    </tr>\n",
              "    <tr>\n",
              "      <th>2</th>\n",
              "      <td>4.7</td>\n",
              "      <td>3.2</td>\n",
              "      <td>1.3</td>\n",
              "      <td>0.2</td>\n",
              "      <td>setosa</td>\n",
              "    </tr>\n",
              "    <tr>\n",
              "      <th>3</th>\n",
              "      <td>4.6</td>\n",
              "      <td>3.1</td>\n",
              "      <td>1.5</td>\n",
              "      <td>0.2</td>\n",
              "      <td>setosa</td>\n",
              "    </tr>\n",
              "    <tr>\n",
              "      <th>4</th>\n",
              "      <td>5.0</td>\n",
              "      <td>3.6</td>\n",
              "      <td>1.4</td>\n",
              "      <td>0.2</td>\n",
              "      <td>setosa</td>\n",
              "    </tr>\n",
              "  </tbody>\n",
              "</table>\n",
              "</div>"
            ],
            "text/plain": [
              "   sepal length (cm)  sepal width (cm)  petal length (cm)  petal width (cm)  \\\n",
              "0                5.1               3.5                1.4               0.2   \n",
              "1                4.9               3.0                1.4               0.2   \n",
              "2                4.7               3.2                1.3               0.2   \n",
              "3                4.6               3.1                1.5               0.2   \n",
              "4                5.0               3.6                1.4               0.2   \n",
              "\n",
              "   target  \n",
              "0  setosa  \n",
              "1  setosa  \n",
              "2  setosa  \n",
              "3  setosa  \n",
              "4  setosa  "
            ]
          },
          "execution_count": 37,
          "metadata": {},
          "output_type": "execute_result"
        }
      ],
      "source": [
        "iris_df.head()"
      ]
    },
    {
      "cell_type": "code",
      "execution_count": null,
      "metadata": {
        "id": "f8dosBkO2loa"
      },
      "outputs": [],
      "source": [
        "#before fitting PCA, we need to normalize the features (VERY IMPORTANT)\n",
        "scaler = StandardScaler()\n",
        "iris_scaled = scaler.fit_transform(iris_df.drop([\"target\"], axis=1))"
      ]
    },
    {
      "cell_type": "code",
      "execution_count": null,
      "metadata": {
        "id": "kk-wo2AE2lob",
        "outputId": "7fe207e2-8eb0-437c-b317-d543764af183"
      },
      "outputs": [
        {
          "data": {
            "text/plain": [
              "array([[-0.90068117,  1.01900435, -1.34022653, -1.3154443 ],\n",
              "       [-1.14301691, -0.13197948, -1.34022653, -1.3154443 ],\n",
              "       [-1.38535265,  0.32841405, -1.39706395, -1.3154443 ],\n",
              "       [-1.50652052,  0.09821729, -1.2833891 , -1.3154443 ],\n",
              "       [-1.02184904,  1.24920112, -1.34022653, -1.3154443 ],\n",
              "       [-0.53717756,  1.93979142, -1.16971425, -1.05217993],\n",
              "       [-1.50652052,  0.78880759, -1.34022653, -1.18381211],\n",
              "       [-1.02184904,  0.78880759, -1.2833891 , -1.3154443 ],\n",
              "       [-1.74885626, -0.36217625, -1.34022653, -1.3154443 ],\n",
              "       [-1.14301691,  0.09821729, -1.2833891 , -1.44707648]])"
            ]
          },
          "execution_count": 39,
          "metadata": {},
          "output_type": "execute_result"
        }
      ],
      "source": [
        "iris_scaled[:10]"
      ]
    },
    {
      "cell_type": "code",
      "execution_count": null,
      "metadata": {
        "id": "sn4QJENT2lod"
      },
      "outputs": [],
      "source": [
        "#initialize PCA with 2 components\n",
        "pca = PCA(n_components=2)"
      ]
    },
    {
      "cell_type": "code",
      "execution_count": null,
      "metadata": {
        "id": "Xfuif7yk2loe",
        "outputId": "3b1653ba-b6fc-4e1f-86bc-e8ece71c5cb3"
      },
      "outputs": [
        {
          "data": {
            "text/plain": [
              "PCA(n_components=2)"
            ]
          },
          "execution_count": 41,
          "metadata": {},
          "output_type": "execute_result"
        }
      ],
      "source": [
        "#fit PCA to the normalized features of the Iris dataset\n",
        "pca.fit(iris_scaled)"
      ]
    },
    {
      "cell_type": "code",
      "execution_count": null,
      "metadata": {
        "id": "qTpQ32s42lof",
        "outputId": "9d9108ec-53c6-4632-837b-b1c7efe638a0"
      },
      "outputs": [
        {
          "data": {
            "text/plain": [
              "array([0.72962445, 0.22850762])"
            ]
          },
          "execution_count": 42,
          "metadata": {},
          "output_type": "execute_result"
        }
      ],
      "source": [
        "pca.explained_variance_ratio_"
      ]
    },
    {
      "cell_type": "raw",
      "metadata": {
        "id": "aIHSLywf2log"
      },
      "source": [
        "The explained_variance_ratio shows the variance described by the latent components of the PCA transformation. In our case, the first component described 72.9% variance in data while the second component shows the 22.8% variance in data. They cumulatively showcase almost 96% of variance in the dataset - which is excellent!\n"
      ]
    },
    {
      "cell_type": "code",
      "execution_count": null,
      "metadata": {
        "id": "MWDlJHGK2loh"
      },
      "outputs": [],
      "source": [
        "#Applying the transform so that we obtain the principal components\n",
        "iris_pca = pca.transform(iris_scaled)"
      ]
    },
    {
      "cell_type": "code",
      "execution_count": null,
      "metadata": {
        "id": "HUwvv46_2loi"
      },
      "outputs": [],
      "source": [
        "#Creating a Dataframe based on the principal components\n",
        "iris_pca_df = pd.DataFrame(data = iris_pca, columns = ['principal component 1', 'principal component 2'])"
      ]
    },
    {
      "cell_type": "code",
      "execution_count": null,
      "metadata": {
        "id": "7g1dJL0G2loj",
        "outputId": "ba3e1736-d13b-480e-bca1-9cdb2e414058"
      },
      "outputs": [
        {
          "data": {
            "text/html": [
              "<div>\n",
              "<style scoped>\n",
              "    .dataframe tbody tr th:only-of-type {\n",
              "        vertical-align: middle;\n",
              "    }\n",
              "\n",
              "    .dataframe tbody tr th {\n",
              "        vertical-align: top;\n",
              "    }\n",
              "\n",
              "    .dataframe thead th {\n",
              "        text-align: right;\n",
              "    }\n",
              "</style>\n",
              "<table border=\"1\" class=\"dataframe\">\n",
              "  <thead>\n",
              "    <tr style=\"text-align: right;\">\n",
              "      <th></th>\n",
              "      <th>principal component 1</th>\n",
              "      <th>principal component 2</th>\n",
              "    </tr>\n",
              "  </thead>\n",
              "  <tbody>\n",
              "    <tr>\n",
              "      <th>0</th>\n",
              "      <td>-2.264703</td>\n",
              "      <td>0.480027</td>\n",
              "    </tr>\n",
              "    <tr>\n",
              "      <th>1</th>\n",
              "      <td>-2.080961</td>\n",
              "      <td>-0.674134</td>\n",
              "    </tr>\n",
              "    <tr>\n",
              "      <th>2</th>\n",
              "      <td>-2.364229</td>\n",
              "      <td>-0.341908</td>\n",
              "    </tr>\n",
              "    <tr>\n",
              "      <th>3</th>\n",
              "      <td>-2.299384</td>\n",
              "      <td>-0.597395</td>\n",
              "    </tr>\n",
              "    <tr>\n",
              "      <th>4</th>\n",
              "      <td>-2.389842</td>\n",
              "      <td>0.646835</td>\n",
              "    </tr>\n",
              "  </tbody>\n",
              "</table>\n",
              "</div>"
            ],
            "text/plain": [
              "   principal component 1  principal component 2\n",
              "0              -2.264703               0.480027\n",
              "1              -2.080961              -0.674134\n",
              "2              -2.364229              -0.341908\n",
              "3              -2.299384              -0.597395\n",
              "4              -2.389842               0.646835"
            ]
          },
          "execution_count": 45,
          "metadata": {},
          "output_type": "execute_result"
        }
      ],
      "source": [
        "iris_pca_df.head()"
      ]
    },
    {
      "cell_type": "code",
      "execution_count": null,
      "metadata": {
        "id": "l1nko7To2lok"
      },
      "outputs": [],
      "source": [
        "#Attaching the target variable to this PCA Dataframe\n",
        "iris_pca_df = pd.concat([iris_pca_df, iris_df[['target']]], axis = 1)"
      ]
    },
    {
      "cell_type": "code",
      "execution_count": null,
      "metadata": {
        "id": "Ah0HsEnO2lok",
        "outputId": "bb2f8e15-6c3f-470e-a7f6-522860770d54"
      },
      "outputs": [
        {
          "data": {
            "text/html": [
              "<div>\n",
              "<style scoped>\n",
              "    .dataframe tbody tr th:only-of-type {\n",
              "        vertical-align: middle;\n",
              "    }\n",
              "\n",
              "    .dataframe tbody tr th {\n",
              "        vertical-align: top;\n",
              "    }\n",
              "\n",
              "    .dataframe thead th {\n",
              "        text-align: right;\n",
              "    }\n",
              "</style>\n",
              "<table border=\"1\" class=\"dataframe\">\n",
              "  <thead>\n",
              "    <tr style=\"text-align: right;\">\n",
              "      <th></th>\n",
              "      <th>principal component 1</th>\n",
              "      <th>principal component 2</th>\n",
              "      <th>target</th>\n",
              "      <th>kmeans_cluster_group</th>\n",
              "      <th>target</th>\n",
              "    </tr>\n",
              "  </thead>\n",
              "  <tbody>\n",
              "    <tr>\n",
              "      <th>0</th>\n",
              "      <td>-2.264703</td>\n",
              "      <td>0.480027</td>\n",
              "      <td>setosa</td>\n",
              "      <td>1</td>\n",
              "      <td>setosa</td>\n",
              "    </tr>\n",
              "    <tr>\n",
              "      <th>1</th>\n",
              "      <td>-2.080961</td>\n",
              "      <td>-0.674134</td>\n",
              "      <td>setosa</td>\n",
              "      <td>1</td>\n",
              "      <td>setosa</td>\n",
              "    </tr>\n",
              "    <tr>\n",
              "      <th>2</th>\n",
              "      <td>-2.364229</td>\n",
              "      <td>-0.341908</td>\n",
              "      <td>setosa</td>\n",
              "      <td>1</td>\n",
              "      <td>setosa</td>\n",
              "    </tr>\n",
              "    <tr>\n",
              "      <th>3</th>\n",
              "      <td>-2.299384</td>\n",
              "      <td>-0.597395</td>\n",
              "      <td>setosa</td>\n",
              "      <td>1</td>\n",
              "      <td>setosa</td>\n",
              "    </tr>\n",
              "    <tr>\n",
              "      <th>4</th>\n",
              "      <td>-2.389842</td>\n",
              "      <td>0.646835</td>\n",
              "      <td>setosa</td>\n",
              "      <td>1</td>\n",
              "      <td>setosa</td>\n",
              "    </tr>\n",
              "  </tbody>\n",
              "</table>\n",
              "</div>"
            ],
            "text/plain": [
              "   principal component 1  principal component 2  target  kmeans_cluster_group  \\\n",
              "0              -2.264703               0.480027  setosa                     1   \n",
              "1              -2.080961              -0.674134  setosa                     1   \n",
              "2              -2.364229              -0.341908  setosa                     1   \n",
              "3              -2.299384              -0.597395  setosa                     1   \n",
              "4              -2.389842               0.646835  setosa                     1   \n",
              "\n",
              "   target  \n",
              "0  setosa  \n",
              "1  setosa  \n",
              "2  setosa  \n",
              "3  setosa  \n",
              "4  setosa  "
            ]
          },
          "execution_count": 61,
          "metadata": {},
          "output_type": "execute_result"
        }
      ],
      "source": [
        "iris_pca_df.head()"
      ]
    },
    {
      "cell_type": "code",
      "execution_count": null,
      "metadata": {
        "id": "dnCHCdik2lol",
        "outputId": "8af847ea-0340-44f5-cde9-9a00bd5c75e8"
      },
      "outputs": [
        {
          "data": {
            "text/html": [
              "\n",
              "<div id=\"altair-viz-7ccff3a64f5d48dba8c83ee2d9e57fe5\"></div>\n",
              "<script type=\"text/javascript\">\n",
              "  (function(spec, embedOpt){\n",
              "    let outputDiv = document.currentScript.previousElementSibling;\n",
              "    if (outputDiv.id !== \"altair-viz-7ccff3a64f5d48dba8c83ee2d9e57fe5\") {\n",
              "      outputDiv = document.getElementById(\"altair-viz-7ccff3a64f5d48dba8c83ee2d9e57fe5\");\n",
              "    }\n",
              "    const paths = {\n",
              "      \"vega\": \"https://cdn.jsdelivr.net/npm//vega@5?noext\",\n",
              "      \"vega-lib\": \"https://cdn.jsdelivr.net/npm//vega-lib?noext\",\n",
              "      \"vega-lite\": \"https://cdn.jsdelivr.net/npm//vega-lite@4.8.1?noext\",\n",
              "      \"vega-embed\": \"https://cdn.jsdelivr.net/npm//vega-embed@6?noext\",\n",
              "    };\n",
              "\n",
              "    function loadScript(lib) {\n",
              "      return new Promise(function(resolve, reject) {\n",
              "        var s = document.createElement('script');\n",
              "        s.src = paths[lib];\n",
              "        s.async = true;\n",
              "        s.onload = () => resolve(paths[lib]);\n",
              "        s.onerror = () => reject(`Error loading script: ${paths[lib]}`);\n",
              "        document.getElementsByTagName(\"head\")[0].appendChild(s);\n",
              "      });\n",
              "    }\n",
              "\n",
              "    function showError(err) {\n",
              "      outputDiv.innerHTML = `<div class=\"error\" style=\"color:red;\">${err}</div>`;\n",
              "      throw err;\n",
              "    }\n",
              "\n",
              "    function displayChart(vegaEmbed) {\n",
              "      vegaEmbed(outputDiv, spec, embedOpt)\n",
              "        .catch(err => showError(`Javascript Error: ${err.message}<br>This usually means there's a typo in your chart specification. See the javascript console for the full traceback.`));\n",
              "    }\n",
              "\n",
              "    if(typeof define === \"function\" && define.amd) {\n",
              "      requirejs.config({paths});\n",
              "      require([\"vega-embed\"], displayChart, err => showError(`Error loading script: ${err.message}`));\n",
              "    } else if (typeof vegaEmbed === \"function\") {\n",
              "      displayChart(vegaEmbed);\n",
              "    } else {\n",
              "      loadScript(\"vega\")\n",
              "        .then(() => loadScript(\"vega-lite\"))\n",
              "        .then(() => loadScript(\"vega-embed\"))\n",
              "        .catch(showError)\n",
              "        .then(() => displayChart(vegaEmbed));\n",
              "    }\n",
              "  })({\"config\": {\"view\": {\"continuousWidth\": 400, \"continuousHeight\": 300}}, \"data\": {\"name\": \"data-aa44808f73d056b9a5d31fe32bffadc2\"}, \"mark\": {\"type\": \"point\", \"size\": 60}, \"encoding\": {\"color\": {\"type\": \"nominal\", \"field\": \"target\", \"legend\": {\"title\": \"Species by color\"}, \"scale\": {\"scheme\": \"category10\"}}, \"tooltip\": [{\"type\": \"nominal\", \"field\": \"target\"}], \"x\": {\"type\": \"quantitative\", \"field\": \"principal component 1\"}, \"y\": {\"type\": \"quantitative\", \"field\": \"principal component 2\"}}, \"height\": 500, \"selection\": {\"selector001\": {\"type\": \"interval\", \"bind\": \"scales\", \"encodings\": [\"x\", \"y\"]}}, \"title\": \"Iris Data\", \"width\": 700, \"$schema\": \"https://vega.github.io/schema/vega-lite/v4.8.1.json\", \"datasets\": {\"data-aa44808f73d056b9a5d31fe32bffadc2\": [{\"principal component 1\": -2.2647028088075873, \"principal component 2\": 0.48002659652098884, \"target\": \"setosa\"}, {\"principal component 1\": -2.0809611519657665, \"principal component 2\": -0.6741335566053526, \"target\": \"setosa\"}, {\"principal component 1\": -2.3642290538902997, \"principal component 2\": -0.34190802388467606, \"target\": \"setosa\"}, {\"principal component 1\": -2.299384217042707, \"principal component 2\": -0.5973945076746753, \"target\": \"setosa\"}, {\"principal component 1\": -2.3898421663138434, \"principal component 2\": 0.6468353829020265, \"target\": \"setosa\"}, {\"principal component 1\": -2.0756309481765114, \"principal component 2\": 1.4891775233211655, \"target\": \"setosa\"}, {\"principal component 1\": -2.444028835134151, \"principal component 2\": 0.04764419763001404, \"target\": \"setosa\"}, {\"principal component 1\": -2.232847158872014, \"principal component 2\": 0.22314807268959147, \"target\": \"setosa\"}, {\"principal component 1\": -2.33464047790762, \"principal component 2\": -1.1153276754616654, \"target\": \"setosa\"}, {\"principal component 1\": -2.184328174933941, \"principal component 2\": -0.46901356140237543, \"target\": \"setosa\"}, {\"principal component 1\": -2.1663101007013217, \"principal component 2\": 1.043690653053859, \"target\": \"setosa\"}, {\"principal component 1\": -2.326130866442697, \"principal component 2\": 0.1330783352392314, \"target\": \"setosa\"}, {\"principal component 1\": -2.2184508988224083, \"principal component 2\": -0.7286761653165703, \"target\": \"setosa\"}, {\"principal component 1\": -2.6331006957652265, \"principal component 2\": -0.9615067291701623, \"target\": \"setosa\"}, {\"principal component 1\": -2.1987406032666894, \"principal component 2\": 1.8600571132939294, \"target\": \"setosa\"}, {\"principal component 1\": -2.2622145316010203, \"principal component 2\": 2.68628448511059, \"target\": \"setosa\"}, {\"principal component 1\": -2.207587695824591, \"principal component 2\": 1.4836093631555711, \"target\": \"setosa\"}, {\"principal component 1\": -2.1903495091922975, \"principal component 2\": 0.4888383164863272, \"target\": \"setosa\"}, {\"principal component 1\": -1.8985719958028413, \"principal component 2\": 1.405018794466548, \"target\": \"setosa\"}, {\"principal component 1\": -2.3433690530749915, \"principal component 2\": 1.1278493819084752, \"target\": \"setosa\"}, {\"principal component 1\": -1.9143229960825672, \"principal component 2\": 0.4088557077559057, \"target\": \"setosa\"}, {\"principal component 1\": -2.2070128431947973, \"principal component 2\": 0.9241214267468977, \"target\": \"setosa\"}, {\"principal component 1\": -2.7743447029273307, \"principal component 2\": 0.45834366775291496, \"target\": \"setosa\"}, {\"principal component 1\": -1.8186695286958485, \"principal component 2\": 0.08555852628736597, \"target\": \"setosa\"}, {\"principal component 1\": -2.2271633057066373, \"principal component 2\": 0.13725445536342706, \"target\": \"setosa\"}, {\"principal component 1\": -1.951846330900375, \"principal component 2\": -0.6256185877766763, \"target\": \"setosa\"}, {\"principal component 1\": -2.0511513727294144, \"principal component 2\": 0.24216355266166678, \"target\": \"setosa\"}, {\"principal component 1\": -2.1685771746542155, \"principal component 2\": 0.5271495253082669, \"target\": \"setosa\"}, {\"principal component 1\": -2.1395634513013304, \"principal component 2\": 0.3132178101399514, \"target\": \"setosa\"}, {\"principal component 1\": -2.2652614931542394, \"principal component 2\": -0.3377319037604804, \"target\": \"setosa\"}, {\"principal component 1\": -2.1401221356479834, \"principal component 2\": -0.504540690141518, \"target\": \"setosa\"}, {\"principal component 1\": -1.8315947706760276, \"principal component 2\": 0.4236950676037854, \"target\": \"setosa\"}, {\"principal component 1\": -2.6149479358589334, \"principal component 2\": 1.7935758561044275, \"target\": \"setosa\"}, {\"principal component 1\": -2.446177391696514, \"principal component 2\": 2.1507278773929226, \"target\": \"setosa\"}, {\"principal component 1\": -2.109974875318651, \"principal component 2\": -0.4602018414370371, \"target\": \"setosa\"}, {\"principal component 1\": -2.2078088990782647, \"principal component 2\": -0.20610739768843686, \"target\": \"setosa\"}, {\"principal component 1\": -2.0451462067542003, \"principal component 2\": 0.6615581114631075, \"target\": \"setosa\"}, {\"principal component 1\": -2.527331913170485, \"principal component 2\": 0.592292774190809, \"target\": \"setosa\"}, {\"principal component 1\": -2.4296325750845447, \"principal component 2\": -0.9041800403761472, \"target\": \"setosa\"}, {\"principal component 1\": -2.1697107116306626, \"principal component 2\": 0.2688789614354705, \"target\": \"setosa\"}, {\"principal component 1\": -2.286475143345669, \"principal component 2\": 0.44171538769904967, \"target\": \"setosa\"}, {\"principal component 1\": -1.8581224563735705, \"principal component 2\": -2.337415157553346, \"target\": \"setosa\"}, {\"principal component 1\": -2.5536383956143545, \"principal component 2\": -0.47910069012231365, \"target\": \"setosa\"}, {\"principal component 1\": -1.9644476837637395, \"principal component 2\": 0.4723266677192604, \"target\": \"setosa\"}, {\"principal component 1\": -2.1370590058116217, \"principal component 2\": 1.1422292620394077, \"target\": \"setosa\"}, {\"principal component 1\": -2.0697442995918287, \"principal component 2\": -0.7110527253858935, \"target\": \"setosa\"}, {\"principal component 1\": -2.3847331657782616, \"principal component 2\": 1.1204297019845353, \"target\": \"setosa\"}, {\"principal component 1\": -2.3943763142196315, \"principal component 2\": -0.386246872589157, \"target\": \"setosa\"}, {\"principal component 1\": -2.2294465479426737, \"principal component 2\": 0.9979597643079794, \"target\": \"setosa\"}, {\"principal component 1\": -2.203833435519129, \"principal component 2\": 0.009216357521276121, \"target\": \"setosa\"}, {\"principal component 1\": 1.1017811830529471, \"principal component 2\": 0.8629724182621582, \"target\": \"versicolor\"}, {\"principal component 1\": 0.7313374253960871, \"principal component 2\": 0.5946147256694241, \"target\": \"versicolor\"}, {\"principal component 1\": 1.2409793195158303, \"principal component 2\": 0.6162976544374976, \"target\": \"versicolor\"}, {\"principal component 1\": 0.407483058817385, \"principal component 2\": -1.754403989323409, \"target\": \"versicolor\"}, {\"principal component 1\": 1.0754747006090777, \"principal component 2\": -0.20842104605096548, \"target\": \"versicolor\"}, {\"principal component 1\": 0.38868733653566495, \"principal component 2\": -0.5932836359900747, \"target\": \"versicolor\"}, {\"principal component 1\": 0.7465297413291605, \"principal component 2\": 0.773019312098596, \"target\": \"versicolor\"}, {\"principal component 1\": -0.4873227421256392, \"principal component 2\": -1.8524290868575726, \"target\": \"versicolor\"}, {\"principal component 1\": 0.9279016383549447, \"principal component 2\": 0.03222607789115362, \"target\": \"versicolor\"}, {\"principal component 1\": 0.011426188736980574, \"principal component 2\": -1.0340182751294396, \"target\": \"versicolor\"}, {\"principal component 1\": -0.11019628000062877, \"principal component 2\": -2.654072818536562, \"target\": \"versicolor\"}, {\"principal component 1\": 0.44069344898307833, \"principal component 2\": -0.06329518843800143, \"target\": \"versicolor\"}, {\"principal component 1\": 0.5621083064431786, \"principal component 2\": -1.7647243806169437, \"target\": \"versicolor\"}, {\"principal component 1\": 0.7195618886754963, \"principal component 2\": -0.18622460583150566, \"target\": \"versicolor\"}, {\"principal component 1\": -0.033354703178772094, \"principal component 2\": -0.4390032099816244, \"target\": \"versicolor\"}, {\"principal component 1\": 0.8754071908577371, \"principal component 2\": 0.5090639567734081, \"target\": \"versicolor\"}, {\"principal component 1\": 0.35025166799508295, \"principal component 2\": -0.19631173455144382, \"target\": \"versicolor\"}, {\"principal component 1\": 0.15881004754797132, \"principal component 2\": -0.7920957424327209, \"target\": \"versicolor\"}, {\"principal component 1\": 1.225093633562431, \"principal component 2\": -1.6222438030915003, \"target\": \"versicolor\"}, {\"principal component 1\": 0.1649178993863273, \"principal component 2\": -1.3026092302957717, \"target\": \"versicolor\"}, {\"principal component 1\": 0.7376826487712581, \"principal component 2\": 0.39657156196023857, \"target\": \"versicolor\"}, {\"principal component 1\": 0.47628719094097116, \"principal component 2\": -0.4173202812135507, \"target\": \"versicolor\"}, {\"principal component 1\": 1.2341780976571486, \"principal component 2\": -0.9333257287992778, \"target\": \"versicolor\"}, {\"principal component 1\": 0.6328581997098216, \"principal component 2\": -0.41638772088909926, \"target\": \"versicolor\"}, {\"principal component 1\": 0.7026611831361818, \"principal component 2\": -0.0634118197248002, \"target\": \"versicolor\"}, {\"principal component 1\": 0.8742736538812897, \"principal component 2\": 0.2507933929006117, \"target\": \"versicolor\"}, {\"principal component 1\": 1.2565091165418827, \"principal component 2\": -0.0772560196958691, \"target\": \"versicolor\"}, {\"principal component 1\": 1.3584051214406314, \"principal component 2\": 0.3313116817908977, \"target\": \"versicolor\"}, {\"principal component 1\": 0.6648003672253946, \"principal component 2\": -0.22592785469484347, \"target\": \"versicolor\"}, {\"principal component 1\": -0.04025861090059546, \"principal component 2\": -1.0587185465539077, \"target\": \"versicolor\"}, {\"principal component 1\": 0.1307951754978606, \"principal component 2\": -1.5622718342099662, \"target\": \"versicolor\"}, {\"principal component 1\": 0.023452688970550858, \"principal component 2\": -1.572475594216703, \"target\": \"versicolor\"}, {\"principal component 1\": 0.24153827295451086, \"principal component 2\": -0.7772563825848411, \"target\": \"versicolor\"}, {\"principal component 1\": 1.0610946088426139, \"principal component 2\": -0.6338432447349464, \"target\": \"versicolor\"}, {\"principal component 1\": 0.22397877351238, \"principal component 2\": -0.287773512043202, \"target\": \"versicolor\"}, {\"principal component 1\": 0.42913911551616074, \"principal component 2\": 0.8455822409050779, \"target\": \"versicolor\"}, {\"principal component 1\": 1.048728051209087, \"principal component 2\": 0.5220517968629421, \"target\": \"versicolor\"}, {\"principal component 1\": 1.0445313843962785, \"principal component 2\": -1.3829887191907808, \"target\": \"versicolor\"}, {\"principal component 1\": 0.0695883211164231, \"principal component 2\": -0.2195033346477148, \"target\": \"versicolor\"}, {\"principal component 1\": 0.28347723828757543, \"principal component 2\": -1.3293246390695754, \"target\": \"versicolor\"}, {\"principal component 1\": 0.279077776055461, \"principal component 2\": -1.1200285237424026, \"target\": \"versicolor\"}, {\"principal component 1\": 0.6245697914985713, \"principal component 2\": 0.024923029254012585, \"target\": \"versicolor\"}, {\"principal component 1\": 0.33653037013143566, \"principal component 2\": -0.9884040176703592, \"target\": \"versicolor\"}, {\"principal component 1\": -0.36218338461938293, \"principal component 2\": -2.01923787323861, \"target\": \"versicolor\"}, {\"principal component 1\": 0.2885862388231574, \"principal component 2\": -0.8557303199870656, \"target\": \"versicolor\"}, {\"principal component 1\": 0.09136065565450543, \"principal component 2\": -0.18119212582577518, \"target\": \"versicolor\"}, {\"principal component 1\": 0.22771686553470008, \"principal component 2\": -0.3849200809873536, \"target\": \"versicolor\"}, {\"principal component 1\": 0.5763882886534784, \"principal component 2\": -0.15487359721655872, \"target\": \"versicolor\"}, {\"principal component 1\": -0.4476670190286114, \"principal component 2\": -1.543792034397755, \"target\": \"versicolor\"}, {\"principal component 1\": 0.2567305888875847, \"principal component 2\": -0.598851796155669, \"target\": \"versicolor\"}, {\"principal component 1\": 1.8445688677230287, \"principal component 2\": 0.8704213123248226, \"target\": \"virginica\"}, {\"principal component 1\": 1.1578816132057796, \"principal component 2\": -0.6988698623306898, \"target\": \"virginica\"}, {\"principal component 1\": 2.205266791075377, \"principal component 2\": 0.562010477008355, \"target\": \"virginica\"}, {\"principal component 1\": 1.440150663827539, \"principal component 2\": -0.046987588105806576, \"target\": \"virginica\"}, {\"principal component 1\": 1.867812220330537, \"principal component 2\": 0.29504482445701946, \"target\": \"virginica\"}, {\"principal component 1\": 2.751873335666275, \"principal component 2\": 0.8004092010275411, \"target\": \"virginica\"}, {\"principal component 1\": 0.36701768786072486, \"principal component 2\": -1.5615028914765043, \"target\": \"virginica\"}, {\"principal component 1\": 2.3024394446251963, \"principal component 2\": 0.4200655796427758, \"target\": \"virginica\"}, {\"principal component 1\": 2.006686467676605, \"principal component 2\": -0.7114386535471584, \"target\": \"virginica\"}, {\"principal component 1\": 2.2597773490124995, \"principal component 2\": 1.921010376459885, \"target\": \"virginica\"}, {\"principal component 1\": 1.3641754921860074, \"principal component 2\": 0.6927564544903864, \"target\": \"virginica\"}, {\"principal component 1\": 1.6026786704779301, \"principal component 2\": -0.421700449772617, \"target\": \"virginica\"}, {\"principal component 1\": 1.883900701703242, \"principal component 2\": 0.41924965060512304, \"target\": \"virginica\"}, {\"principal component 1\": 1.2601150991975076, \"principal component 2\": -1.1622604214064627, \"target\": \"virginica\"}, {\"principal component 1\": 1.467645201017324, \"principal component 2\": -0.44227158737708205, \"target\": \"virginica\"}, {\"principal component 1\": 1.5900773176145653, \"principal component 2\": 0.6762448057233196, \"target\": \"virginica\"}, {\"principal component 1\": 1.4714314611333177, \"principal component 2\": 0.25562182447147025, \"target\": \"virginica\"}, {\"principal component 1\": 2.4263289873157, \"principal component 2\": 2.55666125079549, \"target\": \"virginica\"}, {\"principal component 1\": 3.310695583933886, \"principal component 2\": 0.01778094932062703, \"target\": \"virginica\"}, {\"principal component 1\": 1.2637666736398276, \"principal component 2\": -1.7067453803762662, \"target\": \"virginica\"}, {\"principal component 1\": 2.0377163014694037, \"principal component 2\": 0.9104674096183101, \"target\": \"virginica\"}, {\"principal component 1\": 0.9779807342494217, \"principal component 2\": -0.5717643248129913, \"target\": \"virginica\"}, {\"principal component 1\": 2.8976514907341677, \"principal component 2\": 0.4136410595956473, \"target\": \"virginica\"}, {\"principal component 1\": 1.3332321759732084, \"principal component 2\": -0.4818112186494291, \"target\": \"virginica\"}, {\"principal component 1\": 1.7007338974912167, \"principal component 2\": 1.0139218673227905, \"target\": \"virginica\"}, {\"principal component 1\": 1.9543267058530702, \"principal component 2\": 1.0077775961534514, \"target\": \"virginica\"}, {\"principal component 1\": 1.1751036315549324, \"principal component 2\": -0.31639447230979084, \"target\": \"virginica\"}, {\"principal component 1\": 1.020950550695791, \"principal component 2\": 0.0643460292395618, \"target\": \"virginica\"}, {\"principal component 1\": 1.7883499201796653, \"principal component 2\": -0.18736121459082872, \"target\": \"virginica\"}, {\"principal component 1\": 1.8636475533282602, \"principal component 2\": 0.562290725886144, \"target\": \"virginica\"}, {\"principal component 1\": 2.4359537279227026, \"principal component 2\": 0.25928443314427985, \"target\": \"virginica\"}, {\"principal component 1\": 2.3049277218317634, \"principal component 2\": 2.626323468232376, \"target\": \"virginica\"}, {\"principal component 1\": 1.8627032197949551, \"principal component 2\": -0.17854949462549033, \"target\": \"virginica\"}, {\"principal component 1\": 1.1141477406864744, \"principal component 2\": -0.29292262333573127, \"target\": \"virginica\"}, {\"principal component 1\": 1.2024733016783904, \"principal component 2\": -0.8113152708396679, \"target\": \"virginica\"}, {\"principal component 1\": 2.798770447578107, \"principal component 2\": 0.8568033294971047, \"target\": \"virginica\"}, {\"principal component 1\": 1.5762559101947538, \"principal component 2\": 1.0685811073208067, \"target\": \"virginica\"}, {\"principal component 1\": 1.3462921036270616, \"principal component 2\": 0.42243061085250794, \"target\": \"virginica\"}, {\"principal component 1\": 0.9248249165424192, \"principal component 2\": 0.017223100452284125, \"target\": \"virginica\"}, {\"principal component 1\": 1.8520450517676694, \"principal component 2\": 0.6761281744365208, \"target\": \"virginica\"}, {\"principal component 1\": 2.014810429954875, \"principal component 2\": 0.6138856369235745, \"target\": \"virginica\"}, {\"principal component 1\": 1.9017840902621883, \"principal component 2\": 0.6895754942430019, \"target\": \"virginica\"}, {\"principal component 1\": 1.1578816132057796, \"principal component 2\": -0.6988698623306898, \"target\": \"virginica\"}, {\"principal component 1\": 2.040558228052092, \"principal component 2\": 0.8675206009552276, \"target\": \"virginica\"}, {\"principal component 1\": 1.9981470959523757, \"principal component 2\": 1.0491687471841442, \"target\": \"virginica\"}, {\"principal component 1\": 1.87050329295641, \"principal component 2\": 0.38696608166572516, \"target\": \"virginica\"}, {\"principal component 1\": 1.5645804830303276, \"principal component 2\": -0.8966868088965256, \"target\": \"virginica\"}, {\"principal component 1\": 1.5211704996278372, \"principal component 2\": 0.26906914427795137, \"target\": \"virginica\"}, {\"principal component 1\": 1.3727877895140728, \"principal component 2\": 1.0112544185267922, \"target\": \"virginica\"}, {\"principal component 1\": 0.9606560300371277, \"principal component 2\": -0.024331668169399308, \"target\": \"virginica\"}]}}, {\"mode\": \"vega-lite\"});\n",
              "</script>"
            ],
            "text/plain": [
              "alt.Chart(...)"
            ]
          },
          "execution_count": 48,
          "metadata": {},
          "output_type": "execute_result"
        }
      ],
      "source": [
        "alt.Chart(iris_pca_df).mark_point(size=60).encode(\n",
        "    x='principal component 1',\n",
        "    y='principal component 2',\n",
        "    color=alt.Color('target:N', legend=alt.Legend(title=\"Species by color\"), scale=alt.Scale(scheme='category10')),\n",
        "    tooltip=['target']\n",
        ").properties(\n",
        "    title='Iris Data',\n",
        "    width=700,\n",
        "    height=500\n",
        ").interactive()"
      ]
    },
    {
      "cell_type": "code",
      "execution_count": null,
      "metadata": {
        "id": "QVxH-yfv2lom",
        "outputId": "110733b2-7d4c-4568-ab39-038a525ba978"
      },
      "outputs": [
        {
          "name": "stdout",
          "output_type": "stream",
          "text": [
            "Score for number of cluster(s) 2: -222.362\n",
            "-------------------------\n",
            "Score for number of cluster(s) 3: -139.825\n",
            "-------------------------\n",
            "Score for number of cluster(s) 4: -114.092\n",
            "-------------------------\n",
            "Score for number of cluster(s) 5: -90.928\n",
            "-------------------------\n",
            "Score for number of cluster(s) 6: -80.022\n",
            "-------------------------\n",
            "Score for number of cluster(s) 7: -70.764\n",
            "-------------------------\n"
          ]
        }
      ],
      "source": [
        "#Iterate from 2 clusters to 7 clusters and capture the scores of each loop.\n",
        "\n",
        "km_scores= []\n",
        "for i in range(2,8):\n",
        "    km = KMeans(n_clusters=i, random_state=1301).fit(iris_scaled)\n",
        "    preds = km.predict(iris_scaled)\n",
        "    \n",
        "    print(f'Score for number of cluster(s) {i}: {km.score(iris_scaled):.3f}')\n",
        "    km_scores.append(-km.score(iris_scaled))\n",
        "   \n",
        "    print('-'*25)"
      ]
    },
    {
      "cell_type": "code",
      "execution_count": null,
      "metadata": {
        "id": "_x_Uu0lz2lon",
        "outputId": "9ccb182e-3a02-4b89-b791-e6dbed4f8241"
      },
      "outputs": [
        {
          "data": {
            "text/html": [
              "\n",
              "<div id=\"altair-viz-18b30c03b64549fe9f5657efe91a5f03\"></div>\n",
              "<script type=\"text/javascript\">\n",
              "  (function(spec, embedOpt){\n",
              "    let outputDiv = document.currentScript.previousElementSibling;\n",
              "    if (outputDiv.id !== \"altair-viz-18b30c03b64549fe9f5657efe91a5f03\") {\n",
              "      outputDiv = document.getElementById(\"altair-viz-18b30c03b64549fe9f5657efe91a5f03\");\n",
              "    }\n",
              "    const paths = {\n",
              "      \"vega\": \"https://cdn.jsdelivr.net/npm//vega@5?noext\",\n",
              "      \"vega-lib\": \"https://cdn.jsdelivr.net/npm//vega-lib?noext\",\n",
              "      \"vega-lite\": \"https://cdn.jsdelivr.net/npm//vega-lite@4.8.1?noext\",\n",
              "      \"vega-embed\": \"https://cdn.jsdelivr.net/npm//vega-embed@6?noext\",\n",
              "    };\n",
              "\n",
              "    function loadScript(lib) {\n",
              "      return new Promise(function(resolve, reject) {\n",
              "        var s = document.createElement('script');\n",
              "        s.src = paths[lib];\n",
              "        s.async = true;\n",
              "        s.onload = () => resolve(paths[lib]);\n",
              "        s.onerror = () => reject(`Error loading script: ${paths[lib]}`);\n",
              "        document.getElementsByTagName(\"head\")[0].appendChild(s);\n",
              "      });\n",
              "    }\n",
              "\n",
              "    function showError(err) {\n",
              "      outputDiv.innerHTML = `<div class=\"error\" style=\"color:red;\">${err}</div>`;\n",
              "      throw err;\n",
              "    }\n",
              "\n",
              "    function displayChart(vegaEmbed) {\n",
              "      vegaEmbed(outputDiv, spec, embedOpt)\n",
              "        .catch(err => showError(`Javascript Error: ${err.message}<br>This usually means there's a typo in your chart specification. See the javascript console for the full traceback.`));\n",
              "    }\n",
              "\n",
              "    if(typeof define === \"function\" && define.amd) {\n",
              "      requirejs.config({paths});\n",
              "      require([\"vega-embed\"], displayChart, err => showError(`Error loading script: ${err.message}`));\n",
              "    } else if (typeof vegaEmbed === \"function\") {\n",
              "      displayChart(vegaEmbed);\n",
              "    } else {\n",
              "      loadScript(\"vega\")\n",
              "        .then(() => loadScript(\"vega-lite\"))\n",
              "        .then(() => loadScript(\"vega-embed\"))\n",
              "        .catch(showError)\n",
              "        .then(() => displayChart(vegaEmbed));\n",
              "    }\n",
              "  })({\"config\": {\"view\": {\"continuousWidth\": 400, \"continuousHeight\": 300}}, \"data\": {\"name\": \"data-4c511905db2c4d44114f721587c49485\"}, \"mark\": {\"type\": \"line\", \"point\": true}, \"encoding\": {\"tooltip\": [{\"type\": \"quantitative\", \"field\": \"kmean score\", \"format\": \".2f\"}], \"x\": {\"type\": \"nominal\", \"axis\": {\"labelAngle\": 0}, \"field\": \"Number of clusters\"}, \"y\": {\"type\": \"quantitative\", \"field\": \"kmean score\"}}, \"title\": \"The elbow method for determining number of clusters\", \"width\": 400, \"$schema\": \"https://vega.github.io/schema/vega-lite/v4.8.1.json\", \"datasets\": {\"data-4c511905db2c4d44114f721587c49485\": [{\"Number of clusters\": 2, \"kmean score\": 222.36170496502294}, {\"Number of clusters\": 3, \"kmean score\": 139.82543466174192}, {\"Number of clusters\": 4, \"kmean score\": 114.0922384356827}, {\"Number of clusters\": 5, \"kmean score\": 90.92751382392044}, {\"Number of clusters\": 6, \"kmean score\": 80.02249599557439}, {\"Number of clusters\": 7, \"kmean score\": 70.76376749051963}]}}, {\"mode\": \"vega-lite\"});\n",
              "</script>"
            ],
            "text/plain": [
              "alt.Chart(...)"
            ]
          },
          "execution_count": 50,
          "metadata": {},
          "output_type": "execute_result"
        }
      ],
      "source": [
        "df_plot = pd.DataFrame({'Number of clusters':[i for i in range(2,8)],'kmean score': km_scores})\n",
        "\n",
        "alt.Chart(df_plot).mark_line(point=True).encode(\n",
        "    x=alt.X('Number of clusters:N', axis=alt.Axis(labelAngle=0)),\n",
        "    y=alt.Y('kmean score'),\n",
        "    tooltip=[alt.Tooltip('kmean score', format='.2f')]\n",
        ").properties(\n",
        "    title='Kmean score ifo number of cluster'\n",
        ").properties(\n",
        "    title='The elbow method for determining number of clusters',\n",
        "    width=400\n",
        ")"
      ]
    },
    {
      "cell_type": "raw",
      "metadata": {
        "id": "KX4Zh2f82loo"
      },
      "source": [
        "We use something called the elbow method for figuring out the optimal number of clusters when using the KMeans algortihm.\n",
        "Read more about the elbow method here - https://www.geeksforgeeks.org/elbow-method-for-optimal-value-of-k-in-kmeans/\n",
        "Using elbow method, we infer that 3 appears to be the optimal number of cluster - which is exactly the number of target classes in our Iris Dataset!"
      ]
    },
    {
      "cell_type": "code",
      "execution_count": null,
      "metadata": {
        "id": "yYVr5izJ2lop"
      },
      "outputs": [],
      "source": [
        "km = KMeans(n_clusters=3, random_state=1301).fit(iris_scaled)\n",
        "km_preds = km.predict(iris_scaled)"
      ]
    },
    {
      "cell_type": "code",
      "execution_count": null,
      "metadata": {
        "id": "QrT3DoWu2loq"
      },
      "outputs": [],
      "source": [
        "# Append the clustering groups to our PCA Dataframe, so that we can perform the next visualization \n",
        "# and we can see everything clearly side-by-side\n",
        "\n",
        "iris_pca_df[\"kmeans_cluster_group\"] = km_preds"
      ]
    },
    {
      "cell_type": "code",
      "execution_count": null,
      "metadata": {
        "id": "zsubOgVI2loq",
        "outputId": "f86beccf-6b01-49a0-81da-be7f5c2d5f5c"
      },
      "outputs": [
        {
          "data": {
            "text/html": [
              "<div>\n",
              "<style scoped>\n",
              "    .dataframe tbody tr th:only-of-type {\n",
              "        vertical-align: middle;\n",
              "    }\n",
              "\n",
              "    .dataframe tbody tr th {\n",
              "        vertical-align: top;\n",
              "    }\n",
              "\n",
              "    .dataframe thead th {\n",
              "        text-align: right;\n",
              "    }\n",
              "</style>\n",
              "<table border=\"1\" class=\"dataframe\">\n",
              "  <thead>\n",
              "    <tr style=\"text-align: right;\">\n",
              "      <th></th>\n",
              "      <th>principal component 1</th>\n",
              "      <th>principal component 2</th>\n",
              "      <th>target</th>\n",
              "      <th>kmeans_cluster_group</th>\n",
              "      <th>target</th>\n",
              "    </tr>\n",
              "  </thead>\n",
              "  <tbody>\n",
              "    <tr>\n",
              "      <th>0</th>\n",
              "      <td>-2.264703</td>\n",
              "      <td>0.480027</td>\n",
              "      <td>setosa</td>\n",
              "      <td>1</td>\n",
              "      <td>setosa</td>\n",
              "    </tr>\n",
              "    <tr>\n",
              "      <th>1</th>\n",
              "      <td>-2.080961</td>\n",
              "      <td>-0.674134</td>\n",
              "      <td>setosa</td>\n",
              "      <td>1</td>\n",
              "      <td>setosa</td>\n",
              "    </tr>\n",
              "    <tr>\n",
              "      <th>2</th>\n",
              "      <td>-2.364229</td>\n",
              "      <td>-0.341908</td>\n",
              "      <td>setosa</td>\n",
              "      <td>1</td>\n",
              "      <td>setosa</td>\n",
              "    </tr>\n",
              "    <tr>\n",
              "      <th>3</th>\n",
              "      <td>-2.299384</td>\n",
              "      <td>-0.597395</td>\n",
              "      <td>setosa</td>\n",
              "      <td>1</td>\n",
              "      <td>setosa</td>\n",
              "    </tr>\n",
              "    <tr>\n",
              "      <th>4</th>\n",
              "      <td>-2.389842</td>\n",
              "      <td>0.646835</td>\n",
              "      <td>setosa</td>\n",
              "      <td>1</td>\n",
              "      <td>setosa</td>\n",
              "    </tr>\n",
              "  </tbody>\n",
              "</table>\n",
              "</div>"
            ],
            "text/plain": [
              "   principal component 1  principal component 2  target  kmeans_cluster_group  \\\n",
              "0              -2.264703               0.480027  setosa                     1   \n",
              "1              -2.080961              -0.674134  setosa                     1   \n",
              "2              -2.364229              -0.341908  setosa                     1   \n",
              "3              -2.299384              -0.597395  setosa                     1   \n",
              "4              -2.389842               0.646835  setosa                     1   \n",
              "\n",
              "   target  \n",
              "0  setosa  \n",
              "1  setosa  \n",
              "2  setosa  \n",
              "3  setosa  \n",
              "4  setosa  "
            ]
          },
          "execution_count": 65,
          "metadata": {},
          "output_type": "execute_result"
        }
      ],
      "source": [
        "iris_pca_df.head()"
      ]
    },
    {
      "cell_type": "code",
      "execution_count": null,
      "metadata": {
        "id": "2wTrj1Zh2lor",
        "outputId": "9c1f94ca-faad-42bf-cf8e-fae34533a318"
      },
      "outputs": [
        {
          "data": {
            "text/html": [
              "\n",
              "<div id=\"altair-viz-132885b88ae245ea8eab623d131e2834\"></div>\n",
              "<script type=\"text/javascript\">\n",
              "  (function(spec, embedOpt){\n",
              "    let outputDiv = document.currentScript.previousElementSibling;\n",
              "    if (outputDiv.id !== \"altair-viz-132885b88ae245ea8eab623d131e2834\") {\n",
              "      outputDiv = document.getElementById(\"altair-viz-132885b88ae245ea8eab623d131e2834\");\n",
              "    }\n",
              "    const paths = {\n",
              "      \"vega\": \"https://cdn.jsdelivr.net/npm//vega@5?noext\",\n",
              "      \"vega-lib\": \"https://cdn.jsdelivr.net/npm//vega-lib?noext\",\n",
              "      \"vega-lite\": \"https://cdn.jsdelivr.net/npm//vega-lite@4.8.1?noext\",\n",
              "      \"vega-embed\": \"https://cdn.jsdelivr.net/npm//vega-embed@6?noext\",\n",
              "    };\n",
              "\n",
              "    function loadScript(lib) {\n",
              "      return new Promise(function(resolve, reject) {\n",
              "        var s = document.createElement('script');\n",
              "        s.src = paths[lib];\n",
              "        s.async = true;\n",
              "        s.onload = () => resolve(paths[lib]);\n",
              "        s.onerror = () => reject(`Error loading script: ${paths[lib]}`);\n",
              "        document.getElementsByTagName(\"head\")[0].appendChild(s);\n",
              "      });\n",
              "    }\n",
              "\n",
              "    function showError(err) {\n",
              "      outputDiv.innerHTML = `<div class=\"error\" style=\"color:red;\">${err}</div>`;\n",
              "      throw err;\n",
              "    }\n",
              "\n",
              "    function displayChart(vegaEmbed) {\n",
              "      vegaEmbed(outputDiv, spec, embedOpt)\n",
              "        .catch(err => showError(`Javascript Error: ${err.message}<br>This usually means there's a typo in your chart specification. See the javascript console for the full traceback.`));\n",
              "    }\n",
              "\n",
              "    if(typeof define === \"function\" && define.amd) {\n",
              "      requirejs.config({paths});\n",
              "      require([\"vega-embed\"], displayChart, err => showError(`Error loading script: ${err.message}`));\n",
              "    } else if (typeof vegaEmbed === \"function\") {\n",
              "      displayChart(vegaEmbed);\n",
              "    } else {\n",
              "      loadScript(\"vega\")\n",
              "        .then(() => loadScript(\"vega-lite\"))\n",
              "        .then(() => loadScript(\"vega-embed\"))\n",
              "        .catch(showError)\n",
              "        .then(() => displayChart(vegaEmbed));\n",
              "    }\n",
              "  })({\"config\": {\"view\": {\"continuousWidth\": 400, \"continuousHeight\": 300}}, \"hconcat\": [{\"mark\": {\"type\": \"point\", \"opacity\": 0.95, \"size\": 60}, \"encoding\": {\"color\": {\"type\": \"nominal\", \"field\": \"target\", \"legend\": {\"title\": \"Species by color\"}, \"scale\": {\"scheme\": \"rainbow\"}}, \"tooltip\": [{\"type\": \"nominal\", \"field\": \"target\"}, {\"type\": \"quantitative\", \"field\": \"kmeans_cluster_group\"}], \"x\": {\"type\": \"quantitative\", \"field\": \"principal component 1\"}, \"y\": {\"type\": \"quantitative\", \"field\": \"principal component 2\"}}, \"height\": 300, \"selection\": {\"selector002\": {\"type\": \"interval\", \"bind\": \"scales\", \"encodings\": [\"x\", \"y\"]}}, \"title\": \"Iris Data with Original Target Labels\", \"width\": 400}, {\"mark\": {\"type\": \"point\", \"opacity\": 0.95, \"size\": 60}, \"encoding\": {\"color\": {\"type\": \"nominal\", \"field\": \"kmeans_cluster_group\", \"legend\": {\"title\": \"Cluster Group\"}, \"scale\": {\"scheme\": \"tableau10\"}}, \"tooltip\": [{\"type\": \"nominal\", \"field\": \"target\"}, {\"type\": \"quantitative\", \"field\": \"kmeans_cluster_group\"}], \"x\": {\"type\": \"quantitative\", \"field\": \"principal component 1\"}, \"y\": {\"type\": \"quantitative\", \"field\": \"principal component 2\"}}, \"height\": 300, \"selection\": {\"selector002\": {\"type\": \"interval\", \"bind\": \"scales\", \"encodings\": [\"x\", \"y\"]}}, \"title\": \"Iris Data with KMeans Cluster Groups\", \"width\": 400}], \"data\": {\"name\": \"data-ba121637a4e55e592b09909eb5f4edb7\"}, \"$schema\": \"https://vega.github.io/schema/vega-lite/v4.8.1.json\", \"datasets\": {\"data-ba121637a4e55e592b09909eb5f4edb7\": [{\"principal component 1\": -2.2647028088075873, \"principal component 2\": 0.48002659652098884, \"target\": \"setosa\", \"kmeans_cluster_group\": 1}, {\"principal component 1\": -2.0809611519657665, \"principal component 2\": -0.6741335566053526, \"target\": \"setosa\", \"kmeans_cluster_group\": 1}, {\"principal component 1\": -2.3642290538902997, \"principal component 2\": -0.34190802388467606, \"target\": \"setosa\", \"kmeans_cluster_group\": 1}, {\"principal component 1\": -2.299384217042707, \"principal component 2\": -0.5973945076746753, \"target\": \"setosa\", \"kmeans_cluster_group\": 1}, {\"principal component 1\": -2.3898421663138434, \"principal component 2\": 0.6468353829020265, \"target\": \"setosa\", \"kmeans_cluster_group\": 1}, {\"principal component 1\": -2.0756309481765114, \"principal component 2\": 1.4891775233211655, \"target\": \"setosa\", \"kmeans_cluster_group\": 1}, {\"principal component 1\": -2.444028835134151, \"principal component 2\": 0.04764419763001404, \"target\": \"setosa\", \"kmeans_cluster_group\": 1}, {\"principal component 1\": -2.232847158872014, \"principal component 2\": 0.22314807268959147, \"target\": \"setosa\", \"kmeans_cluster_group\": 1}, {\"principal component 1\": -2.33464047790762, \"principal component 2\": -1.1153276754616654, \"target\": \"setosa\", \"kmeans_cluster_group\": 1}, {\"principal component 1\": -2.184328174933941, \"principal component 2\": -0.46901356140237543, \"target\": \"setosa\", \"kmeans_cluster_group\": 1}, {\"principal component 1\": -2.1663101007013217, \"principal component 2\": 1.043690653053859, \"target\": \"setosa\", \"kmeans_cluster_group\": 1}, {\"principal component 1\": -2.326130866442697, \"principal component 2\": 0.1330783352392314, \"target\": \"setosa\", \"kmeans_cluster_group\": 1}, {\"principal component 1\": -2.2184508988224083, \"principal component 2\": -0.7286761653165703, \"target\": \"setosa\", \"kmeans_cluster_group\": 1}, {\"principal component 1\": -2.6331006957652265, \"principal component 2\": -0.9615067291701623, \"target\": \"setosa\", \"kmeans_cluster_group\": 1}, {\"principal component 1\": -2.1987406032666894, \"principal component 2\": 1.8600571132939294, \"target\": \"setosa\", \"kmeans_cluster_group\": 1}, {\"principal component 1\": -2.2622145316010203, \"principal component 2\": 2.68628448511059, \"target\": \"setosa\", \"kmeans_cluster_group\": 1}, {\"principal component 1\": -2.207587695824591, \"principal component 2\": 1.4836093631555711, \"target\": \"setosa\", \"kmeans_cluster_group\": 1}, {\"principal component 1\": -2.1903495091922975, \"principal component 2\": 0.4888383164863272, \"target\": \"setosa\", \"kmeans_cluster_group\": 1}, {\"principal component 1\": -1.8985719958028413, \"principal component 2\": 1.405018794466548, \"target\": \"setosa\", \"kmeans_cluster_group\": 1}, {\"principal component 1\": -2.3433690530749915, \"principal component 2\": 1.1278493819084752, \"target\": \"setosa\", \"kmeans_cluster_group\": 1}, {\"principal component 1\": -1.9143229960825672, \"principal component 2\": 0.4088557077559057, \"target\": \"setosa\", \"kmeans_cluster_group\": 1}, {\"principal component 1\": -2.2070128431947973, \"principal component 2\": 0.9241214267468977, \"target\": \"setosa\", \"kmeans_cluster_group\": 1}, {\"principal component 1\": -2.7743447029273307, \"principal component 2\": 0.45834366775291496, \"target\": \"setosa\", \"kmeans_cluster_group\": 1}, {\"principal component 1\": -1.8186695286958485, \"principal component 2\": 0.08555852628736597, \"target\": \"setosa\", \"kmeans_cluster_group\": 1}, {\"principal component 1\": -2.2271633057066373, \"principal component 2\": 0.13725445536342706, \"target\": \"setosa\", \"kmeans_cluster_group\": 1}, {\"principal component 1\": -1.951846330900375, \"principal component 2\": -0.6256185877766763, \"target\": \"setosa\", \"kmeans_cluster_group\": 1}, {\"principal component 1\": -2.0511513727294144, \"principal component 2\": 0.24216355266166678, \"target\": \"setosa\", \"kmeans_cluster_group\": 1}, {\"principal component 1\": -2.1685771746542155, \"principal component 2\": 0.5271495253082669, \"target\": \"setosa\", \"kmeans_cluster_group\": 1}, {\"principal component 1\": -2.1395634513013304, \"principal component 2\": 0.3132178101399514, \"target\": \"setosa\", \"kmeans_cluster_group\": 1}, {\"principal component 1\": -2.2652614931542394, \"principal component 2\": -0.3377319037604804, \"target\": \"setosa\", \"kmeans_cluster_group\": 1}, {\"principal component 1\": -2.1401221356479834, \"principal component 2\": -0.504540690141518, \"target\": \"setosa\", \"kmeans_cluster_group\": 1}, {\"principal component 1\": -1.8315947706760276, \"principal component 2\": 0.4236950676037854, \"target\": \"setosa\", \"kmeans_cluster_group\": 1}, {\"principal component 1\": -2.6149479358589334, \"principal component 2\": 1.7935758561044275, \"target\": \"setosa\", \"kmeans_cluster_group\": 1}, {\"principal component 1\": -2.446177391696514, \"principal component 2\": 2.1507278773929226, \"target\": \"setosa\", \"kmeans_cluster_group\": 1}, {\"principal component 1\": -2.109974875318651, \"principal component 2\": -0.4602018414370371, \"target\": \"setosa\", \"kmeans_cluster_group\": 1}, {\"principal component 1\": -2.2078088990782647, \"principal component 2\": -0.20610739768843686, \"target\": \"setosa\", \"kmeans_cluster_group\": 1}, {\"principal component 1\": -2.0451462067542003, \"principal component 2\": 0.6615581114631075, \"target\": \"setosa\", \"kmeans_cluster_group\": 1}, {\"principal component 1\": -2.527331913170485, \"principal component 2\": 0.592292774190809, \"target\": \"setosa\", \"kmeans_cluster_group\": 1}, {\"principal component 1\": -2.4296325750845447, \"principal component 2\": -0.9041800403761472, \"target\": \"setosa\", \"kmeans_cluster_group\": 1}, {\"principal component 1\": -2.1697107116306626, \"principal component 2\": 0.2688789614354705, \"target\": \"setosa\", \"kmeans_cluster_group\": 1}, {\"principal component 1\": -2.286475143345669, \"principal component 2\": 0.44171538769904967, \"target\": \"setosa\", \"kmeans_cluster_group\": 1}, {\"principal component 1\": -1.8581224563735705, \"principal component 2\": -2.337415157553346, \"target\": \"setosa\", \"kmeans_cluster_group\": 1}, {\"principal component 1\": -2.5536383956143545, \"principal component 2\": -0.47910069012231365, \"target\": \"setosa\", \"kmeans_cluster_group\": 1}, {\"principal component 1\": -1.9644476837637395, \"principal component 2\": 0.4723266677192604, \"target\": \"setosa\", \"kmeans_cluster_group\": 1}, {\"principal component 1\": -2.1370590058116217, \"principal component 2\": 1.1422292620394077, \"target\": \"setosa\", \"kmeans_cluster_group\": 1}, {\"principal component 1\": -2.0697442995918287, \"principal component 2\": -0.7110527253858935, \"target\": \"setosa\", \"kmeans_cluster_group\": 1}, {\"principal component 1\": -2.3847331657782616, \"principal component 2\": 1.1204297019845353, \"target\": \"setosa\", \"kmeans_cluster_group\": 1}, {\"principal component 1\": -2.3943763142196315, \"principal component 2\": -0.386246872589157, \"target\": \"setosa\", \"kmeans_cluster_group\": 1}, {\"principal component 1\": -2.2294465479426737, \"principal component 2\": 0.9979597643079794, \"target\": \"setosa\", \"kmeans_cluster_group\": 1}, {\"principal component 1\": -2.203833435519129, \"principal component 2\": 0.009216357521276121, \"target\": \"setosa\", \"kmeans_cluster_group\": 1}, {\"principal component 1\": 1.1017811830529471, \"principal component 2\": 0.8629724182621582, \"target\": \"versicolor\", \"kmeans_cluster_group\": 2}, {\"principal component 1\": 0.7313374253960871, \"principal component 2\": 0.5946147256694241, \"target\": \"versicolor\", \"kmeans_cluster_group\": 2}, {\"principal component 1\": 1.2409793195158303, \"principal component 2\": 0.6162976544374976, \"target\": \"versicolor\", \"kmeans_cluster_group\": 2}, {\"principal component 1\": 0.407483058817385, \"principal component 2\": -1.754403989323409, \"target\": \"versicolor\", \"kmeans_cluster_group\": 0}, {\"principal component 1\": 1.0754747006090777, \"principal component 2\": -0.20842104605096548, \"target\": \"versicolor\", \"kmeans_cluster_group\": 0}, {\"principal component 1\": 0.38868733653566495, \"principal component 2\": -0.5932836359900747, \"target\": \"versicolor\", \"kmeans_cluster_group\": 0}, {\"principal component 1\": 0.7465297413291605, \"principal component 2\": 0.773019312098596, \"target\": \"versicolor\", \"kmeans_cluster_group\": 2}, {\"principal component 1\": -0.4873227421256392, \"principal component 2\": -1.8524290868575726, \"target\": \"versicolor\", \"kmeans_cluster_group\": 0}, {\"principal component 1\": 0.9279016383549447, \"principal component 2\": 0.03222607789115362, \"target\": \"versicolor\", \"kmeans_cluster_group\": 2}, {\"principal component 1\": 0.011426188736980574, \"principal component 2\": -1.0340182751294396, \"target\": \"versicolor\", \"kmeans_cluster_group\": 0}, {\"principal component 1\": -0.11019628000062877, \"principal component 2\": -2.654072818536562, \"target\": \"versicolor\", \"kmeans_cluster_group\": 0}, {\"principal component 1\": 0.44069344898307833, \"principal component 2\": -0.06329518843800143, \"target\": \"versicolor\", \"kmeans_cluster_group\": 0}, {\"principal component 1\": 0.5621083064431786, \"principal component 2\": -1.7647243806169437, \"target\": \"versicolor\", \"kmeans_cluster_group\": 0}, {\"principal component 1\": 0.7195618886754963, \"principal component 2\": -0.18622460583150566, \"target\": \"versicolor\", \"kmeans_cluster_group\": 0}, {\"principal component 1\": -0.033354703178772094, \"principal component 2\": -0.4390032099816244, \"target\": \"versicolor\", \"kmeans_cluster_group\": 0}, {\"principal component 1\": 0.8754071908577371, \"principal component 2\": 0.5090639567734081, \"target\": \"versicolor\", \"kmeans_cluster_group\": 2}, {\"principal component 1\": 0.35025166799508295, \"principal component 2\": -0.19631173455144382, \"target\": \"versicolor\", \"kmeans_cluster_group\": 0}, {\"principal component 1\": 0.15881004754797132, \"principal component 2\": -0.7920957424327209, \"target\": \"versicolor\", \"kmeans_cluster_group\": 0}, {\"principal component 1\": 1.225093633562431, \"principal component 2\": -1.6222438030915003, \"target\": \"versicolor\", \"kmeans_cluster_group\": 0}, {\"principal component 1\": 0.1649178993863273, \"principal component 2\": -1.3026092302957717, \"target\": \"versicolor\", \"kmeans_cluster_group\": 0}, {\"principal component 1\": 0.7376826487712581, \"principal component 2\": 0.39657156196023857, \"target\": \"versicolor\", \"kmeans_cluster_group\": 2}, {\"principal component 1\": 0.47628719094097116, \"principal component 2\": -0.4173202812135507, \"target\": \"versicolor\", \"kmeans_cluster_group\": 0}, {\"principal component 1\": 1.2341780976571486, \"principal component 2\": -0.9333257287992778, \"target\": \"versicolor\", \"kmeans_cluster_group\": 0}, {\"principal component 1\": 0.6328581997098216, \"principal component 2\": -0.41638772088909926, \"target\": \"versicolor\", \"kmeans_cluster_group\": 0}, {\"principal component 1\": 0.7026611831361818, \"principal component 2\": -0.0634118197248002, \"target\": \"versicolor\", \"kmeans_cluster_group\": 0}, {\"principal component 1\": 0.8742736538812897, \"principal component 2\": 0.2507933929006117, \"target\": \"versicolor\", \"kmeans_cluster_group\": 2}, {\"principal component 1\": 1.2565091165418827, \"principal component 2\": -0.0772560196958691, \"target\": \"versicolor\", \"kmeans_cluster_group\": 2}, {\"principal component 1\": 1.3584051214406314, \"principal component 2\": 0.3313116817908977, \"target\": \"versicolor\", \"kmeans_cluster_group\": 2}, {\"principal component 1\": 0.6648003672253946, \"principal component 2\": -0.22592785469484347, \"target\": \"versicolor\", \"kmeans_cluster_group\": 0}, {\"principal component 1\": -0.04025861090059546, \"principal component 2\": -1.0587185465539077, \"target\": \"versicolor\", \"kmeans_cluster_group\": 0}, {\"principal component 1\": 0.1307951754978606, \"principal component 2\": -1.5622718342099662, \"target\": \"versicolor\", \"kmeans_cluster_group\": 0}, {\"principal component 1\": 0.023452688970550858, \"principal component 2\": -1.572475594216703, \"target\": \"versicolor\", \"kmeans_cluster_group\": 0}, {\"principal component 1\": 0.24153827295451086, \"principal component 2\": -0.7772563825848411, \"target\": \"versicolor\", \"kmeans_cluster_group\": 0}, {\"principal component 1\": 1.0610946088426139, \"principal component 2\": -0.6338432447349464, \"target\": \"versicolor\", \"kmeans_cluster_group\": 0}, {\"principal component 1\": 0.22397877351238, \"principal component 2\": -0.287773512043202, \"target\": \"versicolor\", \"kmeans_cluster_group\": 0}, {\"principal component 1\": 0.42913911551616074, \"principal component 2\": 0.8455822409050779, \"target\": \"versicolor\", \"kmeans_cluster_group\": 2}, {\"principal component 1\": 1.048728051209087, \"principal component 2\": 0.5220517968629421, \"target\": \"versicolor\", \"kmeans_cluster_group\": 2}, {\"principal component 1\": 1.0445313843962785, \"principal component 2\": -1.3829887191907808, \"target\": \"versicolor\", \"kmeans_cluster_group\": 0}, {\"principal component 1\": 0.0695883211164231, \"principal component 2\": -0.2195033346477148, \"target\": \"versicolor\", \"kmeans_cluster_group\": 0}, {\"principal component 1\": 0.28347723828757543, \"principal component 2\": -1.3293246390695754, \"target\": \"versicolor\", \"kmeans_cluster_group\": 0}, {\"principal component 1\": 0.279077776055461, \"principal component 2\": -1.1200285237424026, \"target\": \"versicolor\", \"kmeans_cluster_group\": 0}, {\"principal component 1\": 0.6245697914985713, \"principal component 2\": 0.024923029254012585, \"target\": \"versicolor\", \"kmeans_cluster_group\": 0}, {\"principal component 1\": 0.33653037013143566, \"principal component 2\": -0.9884040176703592, \"target\": \"versicolor\", \"kmeans_cluster_group\": 0}, {\"principal component 1\": -0.36218338461938293, \"principal component 2\": -2.01923787323861, \"target\": \"versicolor\", \"kmeans_cluster_group\": 0}, {\"principal component 1\": 0.2885862388231574, \"principal component 2\": -0.8557303199870656, \"target\": \"versicolor\", \"kmeans_cluster_group\": 0}, {\"principal component 1\": 0.09136065565450543, \"principal component 2\": -0.18119212582577518, \"target\": \"versicolor\", \"kmeans_cluster_group\": 0}, {\"principal component 1\": 0.22771686553470008, \"principal component 2\": -0.3849200809873536, \"target\": \"versicolor\", \"kmeans_cluster_group\": 0}, {\"principal component 1\": 0.5763882886534784, \"principal component 2\": -0.15487359721655872, \"target\": \"versicolor\", \"kmeans_cluster_group\": 0}, {\"principal component 1\": -0.4476670190286114, \"principal component 2\": -1.543792034397755, \"target\": \"versicolor\", \"kmeans_cluster_group\": 0}, {\"principal component 1\": 0.2567305888875847, \"principal component 2\": -0.598851796155669, \"target\": \"versicolor\", \"kmeans_cluster_group\": 0}, {\"principal component 1\": 1.8445688677230287, \"principal component 2\": 0.8704213123248226, \"target\": \"virginica\", \"kmeans_cluster_group\": 2}, {\"principal component 1\": 1.1578816132057796, \"principal component 2\": -0.6988698623306898, \"target\": \"virginica\", \"kmeans_cluster_group\": 0}, {\"principal component 1\": 2.205266791075377, \"principal component 2\": 0.562010477008355, \"target\": \"virginica\", \"kmeans_cluster_group\": 2}, {\"principal component 1\": 1.440150663827539, \"principal component 2\": -0.046987588105806576, \"target\": \"virginica\", \"kmeans_cluster_group\": 2}, {\"principal component 1\": 1.867812220330537, \"principal component 2\": 0.29504482445701946, \"target\": \"virginica\", \"kmeans_cluster_group\": 2}, {\"principal component 1\": 2.751873335666275, \"principal component 2\": 0.8004092010275411, \"target\": \"virginica\", \"kmeans_cluster_group\": 2}, {\"principal component 1\": 0.36701768786072486, \"principal component 2\": -1.5615028914765043, \"target\": \"virginica\", \"kmeans_cluster_group\": 0}, {\"principal component 1\": 2.3024394446251963, \"principal component 2\": 0.4200655796427758, \"target\": \"virginica\", \"kmeans_cluster_group\": 2}, {\"principal component 1\": 2.006686467676605, \"principal component 2\": -0.7114386535471584, \"target\": \"virginica\", \"kmeans_cluster_group\": 2}, {\"principal component 1\": 2.2597773490124995, \"principal component 2\": 1.921010376459885, \"target\": \"virginica\", \"kmeans_cluster_group\": 2}, {\"principal component 1\": 1.3641754921860074, \"principal component 2\": 0.6927564544903864, \"target\": \"virginica\", \"kmeans_cluster_group\": 2}, {\"principal component 1\": 1.6026786704779301, \"principal component 2\": -0.421700449772617, \"target\": \"virginica\", \"kmeans_cluster_group\": 2}, {\"principal component 1\": 1.883900701703242, \"principal component 2\": 0.41924965060512304, \"target\": \"virginica\", \"kmeans_cluster_group\": 2}, {\"principal component 1\": 1.2601150991975076, \"principal component 2\": -1.1622604214064627, \"target\": \"virginica\", \"kmeans_cluster_group\": 0}, {\"principal component 1\": 1.467645201017324, \"principal component 2\": -0.44227158737708205, \"target\": \"virginica\", \"kmeans_cluster_group\": 0}, {\"principal component 1\": 1.5900773176145653, \"principal component 2\": 0.6762448057233196, \"target\": \"virginica\", \"kmeans_cluster_group\": 2}, {\"principal component 1\": 1.4714314611333177, \"principal component 2\": 0.25562182447147025, \"target\": \"virginica\", \"kmeans_cluster_group\": 2}, {\"principal component 1\": 2.4263289873157, \"principal component 2\": 2.55666125079549, \"target\": \"virginica\", \"kmeans_cluster_group\": 2}, {\"principal component 1\": 3.310695583933886, \"principal component 2\": 0.01778094932062703, \"target\": \"virginica\", \"kmeans_cluster_group\": 2}, {\"principal component 1\": 1.2637666736398276, \"principal component 2\": -1.7067453803762662, \"target\": \"virginica\", \"kmeans_cluster_group\": 0}, {\"principal component 1\": 2.0377163014694037, \"principal component 2\": 0.9104674096183101, \"target\": \"virginica\", \"kmeans_cluster_group\": 2}, {\"principal component 1\": 0.9779807342494217, \"principal component 2\": -0.5717643248129913, \"target\": \"virginica\", \"kmeans_cluster_group\": 0}, {\"principal component 1\": 2.8976514907341677, \"principal component 2\": 0.4136410595956473, \"target\": \"virginica\", \"kmeans_cluster_group\": 2}, {\"principal component 1\": 1.3332321759732084, \"principal component 2\": -0.4818112186494291, \"target\": \"virginica\", \"kmeans_cluster_group\": 0}, {\"principal component 1\": 1.7007338974912167, \"principal component 2\": 1.0139218673227905, \"target\": \"virginica\", \"kmeans_cluster_group\": 2}, {\"principal component 1\": 1.9543267058530702, \"principal component 2\": 1.0077775961534514, \"target\": \"virginica\", \"kmeans_cluster_group\": 2}, {\"principal component 1\": 1.1751036315549324, \"principal component 2\": -0.31639447230979084, \"target\": \"virginica\", \"kmeans_cluster_group\": 0}, {\"principal component 1\": 1.020950550695791, \"principal component 2\": 0.0643460292395618, \"target\": \"virginica\", \"kmeans_cluster_group\": 2}, {\"principal component 1\": 1.7883499201796653, \"principal component 2\": -0.18736121459082872, \"target\": \"virginica\", \"kmeans_cluster_group\": 2}, {\"principal component 1\": 1.8636475533282602, \"principal component 2\": 0.562290725886144, \"target\": \"virginica\", \"kmeans_cluster_group\": 2}, {\"principal component 1\": 2.4359537279227026, \"principal component 2\": 0.25928443314427985, \"target\": \"virginica\", \"kmeans_cluster_group\": 2}, {\"principal component 1\": 2.3049277218317634, \"principal component 2\": 2.626323468232376, \"target\": \"virginica\", \"kmeans_cluster_group\": 2}, {\"principal component 1\": 1.8627032197949551, \"principal component 2\": -0.17854949462549033, \"target\": \"virginica\", \"kmeans_cluster_group\": 2}, {\"principal component 1\": 1.1141477406864744, \"principal component 2\": -0.29292262333573127, \"target\": \"virginica\", \"kmeans_cluster_group\": 0}, {\"principal component 1\": 1.2024733016783904, \"principal component 2\": -0.8113152708396679, \"target\": \"virginica\", \"kmeans_cluster_group\": 0}, {\"principal component 1\": 2.798770447578107, \"principal component 2\": 0.8568033294971047, \"target\": \"virginica\", \"kmeans_cluster_group\": 2}, {\"principal component 1\": 1.5762559101947538, \"principal component 2\": 1.0685811073208067, \"target\": \"virginica\", \"kmeans_cluster_group\": 2}, {\"principal component 1\": 1.3462921036270616, \"principal component 2\": 0.42243061085250794, \"target\": \"virginica\", \"kmeans_cluster_group\": 2}, {\"principal component 1\": 0.9248249165424192, \"principal component 2\": 0.017223100452284125, \"target\": \"virginica\", \"kmeans_cluster_group\": 0}, {\"principal component 1\": 1.8520450517676694, \"principal component 2\": 0.6761281744365208, \"target\": \"virginica\", \"kmeans_cluster_group\": 2}, {\"principal component 1\": 2.014810429954875, \"principal component 2\": 0.6138856369235745, \"target\": \"virginica\", \"kmeans_cluster_group\": 2}, {\"principal component 1\": 1.9017840902621883, \"principal component 2\": 0.6895754942430019, \"target\": \"virginica\", \"kmeans_cluster_group\": 2}, {\"principal component 1\": 1.1578816132057796, \"principal component 2\": -0.6988698623306898, \"target\": \"virginica\", \"kmeans_cluster_group\": 0}, {\"principal component 1\": 2.040558228052092, \"principal component 2\": 0.8675206009552276, \"target\": \"virginica\", \"kmeans_cluster_group\": 2}, {\"principal component 1\": 1.9981470959523757, \"principal component 2\": 1.0491687471841442, \"target\": \"virginica\", \"kmeans_cluster_group\": 2}, {\"principal component 1\": 1.87050329295641, \"principal component 2\": 0.38696608166572516, \"target\": \"virginica\", \"kmeans_cluster_group\": 2}, {\"principal component 1\": 1.5645804830303276, \"principal component 2\": -0.8966868088965256, \"target\": \"virginica\", \"kmeans_cluster_group\": 0}, {\"principal component 1\": 1.5211704996278372, \"principal component 2\": 0.26906914427795137, \"target\": \"virginica\", \"kmeans_cluster_group\": 2}, {\"principal component 1\": 1.3727877895140728, \"principal component 2\": 1.0112544185267922, \"target\": \"virginica\", \"kmeans_cluster_group\": 2}, {\"principal component 1\": 0.9606560300371277, \"principal component 2\": -0.024331668169399308, \"target\": \"virginica\", \"kmeans_cluster_group\": 0}]}}, {\"mode\": \"vega-lite\"});\n",
              "</script>"
            ],
            "text/plain": [
              "alt.HConcatChart(...)"
            ]
          },
          "execution_count": 54,
          "metadata": {},
          "output_type": "execute_result"
        }
      ],
      "source": [
        "base = alt.Chart(iris_pca_df).mark_point(size=60, opacity=0.95).encode(\n",
        "    x='principal component 1',\n",
        "    y='principal component 2',\n",
        "    color=alt.Color('target:N', legend=alt.Legend(title=\"Species by color\"), scale=alt.Scale(scheme='rainbow')),\n",
        "    tooltip=['target', 'kmeans_cluster_group']\n",
        ").properties(\n",
        "    title='Iris Data with Original Target Labels',\n",
        "    width=400,\n",
        "    height=300\n",
        ").interactive()\n",
        "\n",
        "base.encode(x='principal component 1', y='principal component 2') | base.encode(x='principal component 1', \n",
        "                                                                       y='principal component 2', \n",
        "                                                                       color=alt.Color('kmeans_cluster_group:N', \n",
        "                                                                                       legend=alt.Legend(title=\"Cluster Group\"), \n",
        "                                                                                       scale=alt.Scale(scheme='tableau10'))).properties(title='Iris Data with KMeans Cluster Groups')"
      ]
    },
    {
      "cell_type": "raw",
      "metadata": {
        "id": "txTby2cB2lor"
      },
      "source": [
        "We observe that the clustering algorithm has done a pretty decent job of figuring out the clusters, especially with Setosa - the target labels match the cluster group perfectly. The KMeans algorithm did a good job with Versicolor and Viriginica as well, but there is a slight overlap with the data distributions - which the clustering algorithm did not figure out (because of the way KMeans works, but that is beyond the scope of this Assignment).\n",
        "Finally, let's build a Dendrogram that visually showcases hierarchically-clustered data points"
      ]
    },
    {
      "cell_type": "code",
      "execution_count": null,
      "metadata": {
        "id": "rbzOrzuu2los",
        "outputId": "1e714f9e-7d68-4845-8c2a-b073150b4ece"
      },
      "outputs": [
        {
          "data": {
            "image/png": "[encoded data removed]",
            "text/plain": [
              "<Figure size 720x720 with 4 Axes>"
            ]
          },
          "metadata": {
            "needs_background": "light"
          },
          "output_type": "display_data"
        }
      ],
      "source": [
        "pure_iris = iris_df.drop([\"target\"], axis=1)\n",
        "g = sns.clustermap(pure_iris)"
      ]
    },
    {
      "cell_type": "raw",
      "metadata": {
        "id": "rRUDyEza2los"
      },
      "source": [
        "Here is a primer on how to interpret Dendograms - https://www.displayr.com/what-is-dendrogram/\n",
        "I wanna showcase something interesting. Notice how the Dendogram changes when I-\n",
        "1. Standardize the data\n",
        "2. Normalize the data"
      ]
    },
    {
      "cell_type": "code",
      "execution_count": null,
      "metadata": {
        "id": "0Y75vqDI2lot",
        "outputId": "961a2574-7e06-42e3-fac8-c89c78c418ad"
      },
      "outputs": [
        {
          "data": {
            "image/png": "[encoded data removed]",
            "text/plain": [
              "<Figure size 720x720 with 4 Axes>"
            ]
          },
          "metadata": {
            "needs_background": "light"
          },
          "output_type": "display_data"
        }
      ],
      "source": [
        "# Changing the color to keep it interesting\n",
        "# Here is the Dendogram after standardizing the dataset\n",
        "\n",
        "g = sns.clustermap(pure_iris, standard_scale=1, cmap=\"mako\")"
      ]
    },
    {
      "cell_type": "code",
      "execution_count": null,
      "metadata": {
        "id": "wUGnxCJJ2lot",
        "outputId": "f1058a7f-3a28-4b1a-d94d-4908c4403db8"
      },
      "outputs": [
        {
          "data": {
            "image/png": "[encoded data removed]",
            "text/plain": [
              "<Figure size 720x720 with 4 Axes>"
            ]
          },
          "metadata": {
            "needs_background": "light"
          },
          "output_type": "display_data"
        }
      ],
      "source": [
        "# Here is the Dendrogram after normalizing the dataset\n",
        "\n",
        "g = sns.clustermap(pure_iris, z_score=0, cmap=\"mako\")"
      ]
    },
    {
      "cell_type": "raw",
      "metadata": {
        "id": "8izJPtg42lou"
      },
      "source": [
        "we can notice that the dendrogram-joins on the left side of the plots have changed -  The normalized data have shorter or thiner joins because the data is normalized and it's clumped up more.\n",
        "Also the bigger (taller) joins have changed! The clustering for different data points has changed. This implies that if we standardize and/or normalize our dataset before applying a clustering algorithm, it's performance might improve (or worsen)\n",
        "and so standardizing or normalizing the data first before modelling helps."
      ]
    }
  ],
  "metadata": {
    "kernelspec": {
      "display_name": "Python 3",
      "language": "python",
      "name": "python3"
    },
    "language_info": {
      "codemirror_mode": {
        "name": "ipython",
        "version": 3
      },
      "file_extension": ".py",
      "mimetype": "text/x-python",
      "name": "python",
      "nbconvert_exporter": "python",
      "pygments_lexer": "ipython3",
      "version": "3.8.5"
    },
    "colab": {
      "provenance": []
    }
  },
  "nbformat": 4,
  "nbformat_minor": 0
}