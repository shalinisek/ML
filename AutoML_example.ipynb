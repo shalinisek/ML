{
  "cells": [
    {
      "cell_type": "code",
      "execution_count": null,
      "id": "ab63cc23",
      "metadata": {
        "id": "ab63cc23"
      },
      "outputs": [],
      "source": [
        "from sklearn.datasets import load_iris\n",
        "from sklearn.model_selection import train_test_split\n",
        "from supervised.automl import AutoML"
      ]
    },
    {
      "cell_type": "code",
      "execution_count": null,
      "id": "1c69f683",
      "metadata": {
        "id": "1c69f683"
      },
      "outputs": [],
      "source": [
        "iris = load_iris(as_frame=True)"
      ]
    },
    {
      "cell_type": "code",
      "execution_count": null,
      "id": "ee30109b",
      "metadata": {
        "id": "ee30109b"
      },
      "outputs": [],
      "source": [
        "df = iris[\"data\"]"
      ]
    },
    {
      "cell_type": "code",
      "execution_count": null,
      "id": "460a1b9d",
      "metadata": {
        "id": "460a1b9d",
        "outputId": "66c79aab-70eb-491e-ae28-b98cb4181836"
      },
      "outputs": [
        {
          "data": {
            "text/plain": [
              "dict_keys(['data', 'target', 'frame', 'target_names', 'DESCR', 'feature_names', 'filename'])"
            ]
          },
          "execution_count": 7,
          "metadata": {},
          "output_type": "execute_result"
        }
      ],
      "source": [
        "iris.keys()"
      ]
    },
    {
      "cell_type": "code",
      "execution_count": null,
      "id": "5d39ecf8",
      "metadata": {
        "id": "5d39ecf8"
      },
      "outputs": [],
      "source": [
        "df[\"target\"] = iris[\"target\"]"
      ]
    },
    {
      "cell_type": "code",
      "execution_count": null,
      "id": "0896c0da",
      "metadata": {
        "id": "0896c0da",
        "outputId": "640e3edd-10b7-4641-83a9-ba627e44edea"
      },
      "outputs": [
        {
          "data": {
            "text/html": [
              "<div>\n",
              "<style scoped>\n",
              "    .dataframe tbody tr th:only-of-type {\n",
              "        vertical-align: middle;\n",
              "    }\n",
              "\n",
              "    .dataframe tbody tr th {\n",
              "        vertical-align: top;\n",
              "    }\n",
              "\n",
              "    .dataframe thead th {\n",
              "        text-align: right;\n",
              "    }\n",
              "</style>\n",
              "<table border=\"1\" class=\"dataframe\">\n",
              "  <thead>\n",
              "    <tr style=\"text-align: right;\">\n",
              "      <th></th>\n",
              "      <th>sepal length (cm)</th>\n",
              "      <th>sepal width (cm)</th>\n",
              "      <th>petal length (cm)</th>\n",
              "      <th>petal width (cm)</th>\n",
              "      <th>target</th>\n",
              "    </tr>\n",
              "  </thead>\n",
              "  <tbody>\n",
              "    <tr>\n",
              "      <th>0</th>\n",
              "      <td>5.1</td>\n",
              "      <td>3.5</td>\n",
              "      <td>1.4</td>\n",
              "      <td>0.2</td>\n",
              "      <td>0</td>\n",
              "    </tr>\n",
              "    <tr>\n",
              "      <th>1</th>\n",
              "      <td>4.9</td>\n",
              "      <td>3.0</td>\n",
              "      <td>1.4</td>\n",
              "      <td>0.2</td>\n",
              "      <td>0</td>\n",
              "    </tr>\n",
              "    <tr>\n",
              "      <th>2</th>\n",
              "      <td>4.7</td>\n",
              "      <td>3.2</td>\n",
              "      <td>1.3</td>\n",
              "      <td>0.2</td>\n",
              "      <td>0</td>\n",
              "    </tr>\n",
              "    <tr>\n",
              "      <th>3</th>\n",
              "      <td>4.6</td>\n",
              "      <td>3.1</td>\n",
              "      <td>1.5</td>\n",
              "      <td>0.2</td>\n",
              "      <td>0</td>\n",
              "    </tr>\n",
              "    <tr>\n",
              "      <th>4</th>\n",
              "      <td>5.0</td>\n",
              "      <td>3.6</td>\n",
              "      <td>1.4</td>\n",
              "      <td>0.2</td>\n",
              "      <td>0</td>\n",
              "    </tr>\n",
              "  </tbody>\n",
              "</table>\n",
              "</div>"
            ],
            "text/plain": [
              "   sepal length (cm)  sepal width (cm)  petal length (cm)  petal width (cm)  \\\n",
              "0                5.1               3.5                1.4               0.2   \n",
              "1                4.9               3.0                1.4               0.2   \n",
              "2                4.7               3.2                1.3               0.2   \n",
              "3                4.6               3.1                1.5               0.2   \n",
              "4                5.0               3.6                1.4               0.2   \n",
              "\n",
              "   target  \n",
              "0       0  \n",
              "1       0  \n",
              "2       0  \n",
              "3       0  \n",
              "4       0  "
            ]
          },
          "execution_count": 9,
          "metadata": {},
          "output_type": "execute_result"
        }
      ],
      "source": [
        "df.head()"
      ]
    },
    {
      "cell_type": "code",
      "execution_count": null,
      "id": "9a20f46b",
      "metadata": {
        "id": "9a20f46b",
        "outputId": "fdd1d76b-92ba-4c0d-9efb-03f20994f2ee"
      },
      "outputs": [
        {
          "data": {
            "text/html": [
              "<div>\n",
              "<style scoped>\n",
              "    .dataframe tbody tr th:only-of-type {\n",
              "        vertical-align: middle;\n",
              "    }\n",
              "\n",
              "    .dataframe tbody tr th {\n",
              "        vertical-align: top;\n",
              "    }\n",
              "\n",
              "    .dataframe thead th {\n",
              "        text-align: right;\n",
              "    }\n",
              "</style>\n",
              "<table border=\"1\" class=\"dataframe\">\n",
              "  <thead>\n",
              "    <tr style=\"text-align: right;\">\n",
              "      <th></th>\n",
              "      <th>sepal length (cm)</th>\n",
              "      <th>sepal width (cm)</th>\n",
              "      <th>petal length (cm)</th>\n",
              "      <th>petal width (cm)</th>\n",
              "      <th>target</th>\n",
              "    </tr>\n",
              "  </thead>\n",
              "  <tbody>\n",
              "    <tr>\n",
              "      <th>145</th>\n",
              "      <td>6.7</td>\n",
              "      <td>3.0</td>\n",
              "      <td>5.2</td>\n",
              "      <td>2.3</td>\n",
              "      <td>2</td>\n",
              "    </tr>\n",
              "    <tr>\n",
              "      <th>146</th>\n",
              "      <td>6.3</td>\n",
              "      <td>2.5</td>\n",
              "      <td>5.0</td>\n",
              "      <td>1.9</td>\n",
              "      <td>2</td>\n",
              "    </tr>\n",
              "    <tr>\n",
              "      <th>147</th>\n",
              "      <td>6.5</td>\n",
              "      <td>3.0</td>\n",
              "      <td>5.2</td>\n",
              "      <td>2.0</td>\n",
              "      <td>2</td>\n",
              "    </tr>\n",
              "    <tr>\n",
              "      <th>148</th>\n",
              "      <td>6.2</td>\n",
              "      <td>3.4</td>\n",
              "      <td>5.4</td>\n",
              "      <td>2.3</td>\n",
              "      <td>2</td>\n",
              "    </tr>\n",
              "    <tr>\n",
              "      <th>149</th>\n",
              "      <td>5.9</td>\n",
              "      <td>3.0</td>\n",
              "      <td>5.1</td>\n",
              "      <td>1.8</td>\n",
              "      <td>2</td>\n",
              "    </tr>\n",
              "  </tbody>\n",
              "</table>\n",
              "</div>"
            ],
            "text/plain": [
              "     sepal length (cm)  sepal width (cm)  petal length (cm)  petal width (cm)  \\\n",
              "145                6.7               3.0                5.2               2.3   \n",
              "146                6.3               2.5                5.0               1.9   \n",
              "147                6.5               3.0                5.2               2.0   \n",
              "148                6.2               3.4                5.4               2.3   \n",
              "149                5.9               3.0                5.1               1.8   \n",
              "\n",
              "     target  \n",
              "145       2  \n",
              "146       2  \n",
              "147       2  \n",
              "148       2  \n",
              "149       2  "
            ]
          },
          "execution_count": 10,
          "metadata": {},
          "output_type": "execute_result"
        }
      ],
      "source": [
        "df.tail()"
      ]
    },
    {
      "cell_type": "code",
      "execution_count": null,
      "id": "1eb64c28",
      "metadata": {
        "id": "1eb64c28",
        "outputId": "8a052075-953d-4495-b590-4df15ddb6bc9"
      },
      "outputs": [
        {
          "name": "stdout",
          "output_type": "stream",
          "text": [
            "AutoML directory: AutoML_1\n",
            "The task is multiclass_classification with evaluation metric f1\n",
            "AutoML will use algorithms: ['Baseline', 'Linear', 'Decision Tree', 'Random Forest', 'Xgboost', 'Neural Network']\n",
            "AutoML will ensemble availabe models\n",
            "AutoML steps: ['simple_algorithms', 'default_algorithms', 'ensemble']\n",
            "* Step simple_algorithms will try to check up to 3 models\n",
            "1_Baseline f1 0.357143 trained in 0.79 seconds\n",
            "2_DecisionTree f1 0.928571 trained in 10.14 seconds\n",
            "3_Linear f1 0.964286 trained in 9.46 seconds\n",
            "* Step default_algorithms will try to check up to 3 models\n"
          ]
        },
        {
          "name": "stderr",
          "output_type": "stream",
          "text": [
            "ntree_limit is deprecated, use `iteration_range` or model slicing instead.\n",
            "ntree_limit is deprecated, use `iteration_range` or model slicing instead.\n"
          ]
        },
        {
          "name": "stdout",
          "output_type": "stream",
          "text": [
            "4_Default_Xgboost f1 0.964286 trained in 8.21 seconds\n",
            "5_Default_NeuralNetwork f1 0.857143 trained in 1.25 seconds\n",
            "6_Default_RandomForest f1 1.0 trained in 6.16 seconds\n",
            "* Step ensemble will try to check up to 1 model\n",
            "Ensemble f1 1.0 trained in 0.44 seconds\n"
          ]
        },
        {
          "name": "stderr",
          "output_type": "stream",
          "text": [
            "An input array is constant; the correlation coefficient is not defined.\n"
          ]
        },
        {
          "name": "stdout",
          "output_type": "stream",
          "text": [
            "AutoML fit time: 46.18 seconds\n",
            "AutoML best model: 6_Default_RandomForest\n"
          ]
        }
      ],
      "source": [
        "X = df.drop([\"target\"], axis=1)\n",
        "y = df[\"target\"]\n",
        "\n",
        "X_train, X_test, y_train, y_test = train_test_split(\n",
        "    X, y, test_size=0.25\n",
        ")\n",
        "\n",
        "automl = AutoML(eval_metric=\"f1\")\n",
        "automl.fit(X_train, y_train)\n",
        "\n",
        "predictions = automl.predict(X_test)"
      ]
    },
    {
      "cell_type": "markdown",
      "id": "f818fb01",
      "metadata": {
        "id": "f818fb01"
      },
      "source": [
        "## Please take a look at all the Reports (Markdown files) generated for different models. \n",
        "\n",
        "## Last but not the least, lets take a look at the Naive Bayes model"
      ]
    },
    {
      "cell_type": "code",
      "execution_count": null,
      "id": "c0f8d25e",
      "metadata": {
        "id": "c0f8d25e"
      },
      "outputs": [],
      "source": [
        "from sklearn.naive_bayes import GaussianNB\n",
        "from sklearn.metrics import f1_score"
      ]
    },
    {
      "cell_type": "code",
      "execution_count": null,
      "id": "42f17e07",
      "metadata": {
        "id": "42f17e07"
      },
      "outputs": [],
      "source": [
        "gnb = GaussianNB()"
      ]
    },
    {
      "cell_type": "code",
      "execution_count": null,
      "id": "3edb6f4c",
      "metadata": {
        "id": "3edb6f4c",
        "outputId": "cfaaaab2-d2b5-4654-b5db-f625962d3b6f"
      },
      "outputs": [
        {
          "data": {
            "text/plain": [
              "GaussianNB()"
            ]
          },
          "execution_count": 16,
          "metadata": {},
          "output_type": "execute_result"
        }
      ],
      "source": [
        "gnb.fit(X_train, y_train)"
      ]
    },
    {
      "cell_type": "code",
      "execution_count": null,
      "id": "65ecc64d",
      "metadata": {
        "id": "65ecc64d",
        "outputId": "34ce4532-ebb6-4dd7-eae8-efe941252010"
      },
      "outputs": [
        {
          "name": "stdout",
          "output_type": "stream",
          "text": [
            "0.9473684210526315\n"
          ]
        }
      ],
      "source": [
        "print(f1_score(y_test, gnb.predict(X_test), average=\"weighted\"))"
      ]
    },
    {
      "cell_type": "markdown",
      "id": "1d3a7784",
      "metadata": {
        "id": "1d3a7784"
      },
      "source": [
        "## The Naive Bayes model has pretty good performance"
      ]
    },
    {
      "cell_type": "code",
      "execution_count": null,
      "id": "15712aad",
      "metadata": {
        "id": "15712aad"
      },
      "outputs": [],
      "source": []
    }
  ],
  "metadata": {
    "kernelspec": {
      "display_name": "Python 3",
      "language": "python",
      "name": "python3"
    },
    "language_info": {
      "codemirror_mode": {
        "name": "ipython",
        "version": 3
      },
      "file_extension": ".py",
      "mimetype": "text/x-python",
      "name": "python",
      "nbconvert_exporter": "python",
      "pygments_lexer": "ipython3",
      "version": "3.7.11"
    },
    "colab": {
      "provenance": []
    }
  },
  "nbformat": 4,
  "nbformat_minor": 5
}